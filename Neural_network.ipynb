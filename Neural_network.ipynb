{
 "cells": [
  {
   "cell_type": "markdown",
   "id": "ddde8e5e",
   "metadata": {},
   "source": [
    "# Implementing a Neural Network in NumPy"
   ]
  },
  {
   "cell_type": "markdown",
   "id": "695383a1",
   "metadata": {},
   "source": [
    "Rationale: libraries such as PyTorch hide many of the key algorithmic details behind implementing and training neural networks. To really understand neural networks and the backpropagation algorithm, it is very helpful to implement everything yourself"
   ]
  },
  {
   "cell_type": "markdown",
   "id": "7f228f80",
   "metadata": {},
   "source": [
    "Goal: to train a neural network to classify a handwritten digit as either a 3 or a 9. We will be using a subset of the famous MNIST dataset. The neural network will be trained using mini-batch stochastic gradient descent (SGD)."
   ]
  },
  {
   "cell_type": "code",
   "execution_count": 1,
   "id": "d06a4190",
   "metadata": {},
   "outputs": [],
   "source": [
    "from hw2 import get_mnist_threes_nines\n",
    "from hw2 import display_image\n",
    "import numpy as np\n",
    "import pickle\n",
    "import copy\n",
    "import matplotlib.pyplot as plt"
   ]
  },
  {
   "cell_type": "markdown",
   "id": "83599b0c",
   "metadata": {},
   "source": [
    "# 1.2"
   ]
  },
  {
   "cell_type": "markdown",
   "id": "ac0a1e6f",
   "metadata": {},
   "source": [
    "# part a"
   ]
  },
  {
   "cell_type": "markdown",
   "id": "09bbe323",
   "metadata": {},
   "source": [
    "QUESTION: Backpropagation is quite tricky to implement correctly. You will verify that the gradients computed by your backpropagation code are correct by comparing its output to gradients computed by finite differences. Let $f: \\mathbb{R}^d \\to \\mathbb{R}$ be an arbitrary function (for example, the loss of a neural network with $d$ weights and biases), and let $a$ be a $d$-dimensional vector. You can approximately evaluate the partial derivatives of $f$ as: \\\n",
    "$ \\frac{\\partial f}{\\partial x_k} \\approx \\frac{f(\\dots, a_k + \\epsilon, \\dots) - f(\\dots, a_k - \\epsilon, \\dots)}{2\\epsilon}$ \\\n",
    "where $\\epsilon$ is a small constant. As $\\epsilon$ approaches 0 , this approximation theoretically becomes\n",
    "exact, but becomes prone to numerical precision issues. $\\epsilon = 10^{−5}$ usually works well. Implement a finite differences checker, which you will use later to verify the correctness of your\n",
    "backpropagation implementation."
   ]
  },
  {
   "cell_type": "code",
   "execution_count": 2,
   "id": "8762787e",
   "metadata": {},
   "outputs": [],
   "source": [
    "def nn_finite_difference_checker(X, y, weights, biases, activations):\n",
    "    grad_Ws, grad_bs = copy.deepcopy(weights), copy.deepcopy(biases) # just to have the same shape\n",
    "    eps = 1e-5\n",
    "    \n",
    "    L = 0\n",
    "    for layer in weights:\n",
    "        N = 0\n",
    "        grad_W = layer\n",
    "        for neuron in layer:\n",
    "            W = 0\n",
    "            for weight in neuron:\n",
    "                weight_plus_eps = copy.deepcopy(weights)\n",
    "                weight_minus_eps = copy.deepcopy(weights)\n",
    "                \n",
    "                weight_plus_eps[L][N][W] += eps\n",
    "                weight_minus_eps[L][N][W] -= eps\n",
    "                \n",
    "                output_plus_eps = forward_pass(X, weight_plus_eps, biases, activations)[0] # pass in X_batch\n",
    "                loss_plus_eps = logistic_loss(output_plus_eps, y)[0]\n",
    "\n",
    "                output_minus_eps = forward_pass(X, weight_minus_eps, biases, activations)[0]\n",
    "                loss_minus_eps = logistic_loss(output_minus_eps, y)[0]\n",
    "                \n",
    "                grad_Ws[L][N][W] = ( loss_plus_eps.mean() - loss_minus_eps.mean()) / (2*eps)\n",
    "                \n",
    "                W += 1 \n",
    "            N += 1\n",
    "        L += 1\n",
    "        \n",
    "    L = 0\n",
    "    for layer in biases:\n",
    "        N = 0\n",
    "        for neuron in layer.T:\n",
    "            # one bias term per neuron\n",
    "            bias_plus_eps, bias_minus_eps = copy.deepcopy(biases), copy.deepcopy(biases)\n",
    "            bias_plus_eps[L].T[N] += eps\n",
    "            bias_minus_eps[L].T[N] -= eps\n",
    "\n",
    "            bias_output_plus_eps = forward_pass(X, weights, bias_plus_eps, activations)[0]\n",
    "            loss_bias_plus = logistic_loss(bias_output_plus_eps, y)[0]\n",
    "            \n",
    "            bias_output_minus_eps = forward_pass(X, weights, bias_minus_eps, activations)[0]\n",
    "            loss_bias_minus = logistic_loss(bias_output_minus_eps, y)[0]\n",
    "            \n",
    "            grad_bs[L].T[N] = (loss_bias_plus.mean() - loss_bias_minus.mean()) / (2*eps)\n",
    "            \n",
    "            N += 1\n",
    "        L += 1\n",
    "        \n",
    "    return grad_Ws, grad_bs"
   ]
  },
  {
   "cell_type": "markdown",
   "id": "4cef8453",
   "metadata": {},
   "source": [
    "# part b"
   ]
  },
  {
   "cell_type": "markdown",
   "id": "6a4507f2",
   "metadata": {},
   "source": [
    "QUESTION: Here, we will implement several helper functions that we will combine in the next two parts (rest of question truncated as it just gives details about how to implement these helper functions)."
   ]
  },
  {
   "cell_type": "code",
   "execution_count": 3,
   "id": "8b9909bf",
   "metadata": {},
   "outputs": [],
   "source": [
    "# param s: Numpy array of arbitrary shape\n",
    "def sigmoid_activation(s):\n",
    "    sigmoid = np.where(s < 0, np.exp(s, where=s<0)/(1+np.exp(s, where=s<0)), 1/(1+np.exp(-s, where=s>=0)))\n",
    "    grad_sigmoid = np.where(s < 0, np.exp(s, where=s<0)/np.square(1+np.exp(s, where=s<0)),\n",
    "                            np.exp(-s, where=s>=0)/np.square(1+np.exp(-s, where=s>=0)))\n",
    "    \n",
    "    # need to clip the output between eps and 1-eps for eps=1e-15\n",
    "    eps = 1e-15\n",
    "    np.clip(sigmoid, eps, 1-eps, out=sigmoid)\n",
    "    np.clip(grad_sigmoid, eps, 1-eps, out=grad_sigmoid)\n",
    "    \n",
    "    return sigmoid, grad_sigmoid"
   ]
  },
  {
   "cell_type": "code",
   "execution_count": 4,
   "id": "85b09f94",
   "metadata": {},
   "outputs": [],
   "source": [
    "# param g: is the output of the neural network\n",
    "# param y: is the array of true labels\n",
    "def logistic_loss(g, y):\n",
    "    #assert g.shape == y.shape, \"shape of g doesn't match shape of y\"\n",
    "    loss = - np.multiply(y, np.log(g)) - np.multiply((1-y), np.log(1-g))\n",
    "    dL_dg = np.divide((1-y), (1-g)) - np.divide(y, g)\n",
    "                    \n",
    "    return loss, dL_dg"
   ]
  },
  {
   "cell_type": "code",
   "execution_count": 5,
   "id": "c5d45b54",
   "metadata": {},
   "outputs": [],
   "source": [
    "# param s: n by d array\n",
    "def relu_activation(s):\n",
    "    activated_s = np.maximum(s, np.zeros(np.shape(s)))\n",
    "    partial_derivs = np.where(activated_s == 0, 0, 1)\n",
    "    \n",
    "    return activated_s, partial_derivs"
   ]
  },
  {
   "cell_type": "code",
   "execution_count": 6,
   "id": "b77e1d17",
   "metadata": {},
   "outputs": [],
   "source": [
    "# param x: n by d_(L-1) matrix consisting of mini-batch neurons for layer L-1 (n data points, d_(L-1) neurons)\n",
    "# param W: d_(L-1) by d_(L) weight matrix for layer L\n",
    "# param b: 1 by d_(L) bias vector for layer L\n",
    "# param activation_fn: applies elementwise activation to S_(L)\n",
    "def layer_forward(x, W, b, activation_fn):\n",
    "    \n",
    "    S = np.dot(x, W) + b\n",
    "    S_activated, S_activated_grad = activation_fn(S)\n",
    "    out_x = S_activated\n",
    "    \n",
    "    cache = (x, W, S_activated_grad) # X_(L-1), w_L, dg/dS\n",
    "    return out_x, cache"
   ]
  },
  {
   "cell_type": "markdown",
   "id": "13fc4924",
   "metadata": {},
   "source": [
    "# part c"
   ]
  },
  {
   "cell_type": "markdown",
   "id": "d241c3a9",
   "metadata": {},
   "source": [
    "QUESTION: Fully implement a forward pass of the neural network. (rest of question truncated)."
   ]
  },
  {
   "cell_type": "code",
   "execution_count": 7,
   "id": "265afbc7",
   "metadata": {},
   "outputs": [],
   "source": [
    "# param layer_dims: a list of the dimensions of each layer, starting with the input layer\n",
    "# e.g. layer_dims = [784, 200, 1]\n",
    "def create_weight_matrices(layer_dims):\n",
    "    weight_matrix = []\n",
    "\n",
    "    for i in range(len(layer_dims)-1):\n",
    "        weight_matrix.append([])\n",
    "        for j in range(layer_dims[i]):\n",
    "            weight_matrix[i].append( np.random.normal(loc=0, scale=0.01, size=layer_dims[i+1]).tolist() )\n",
    "            \n",
    "    # now have a list of lists, and we want an array of lists\n",
    "    for i in range(len(weight_matrix)):\n",
    "        weight_matrix[i] = np.asarray([weight_matrix[i]])[0]\n",
    "    \n",
    "    return weight_matrix"
   ]
  },
  {
   "cell_type": "code",
   "execution_count": 8,
   "id": "dea0a01e",
   "metadata": {},
   "outputs": [],
   "source": [
    "def create_bias_vectors(layer_dims):\n",
    "    bias_vector = []\n",
    "    \n",
    "    index = 0\n",
    "    for layer_dim in layer_dims[1:]: # don't want bias vectors for the input layer\n",
    "        bias_vector.append([])\n",
    "        for number_of_neurons in range(layer_dim):\n",
    "            bias_vector[index].append(np.random.normal(loc=0, scale=0.01))\n",
    "        index += 1\n",
    "        \n",
    "    for i in range(len(bias_vector)):\n",
    "        bias_vector[i] = np.asarray([bias_vector[i]])\n",
    "            \n",
    "    return bias_vector"
   ]
  },
  {
   "cell_type": "code",
   "execution_count": 9,
   "id": "23b5de5a",
   "metadata": {},
   "outputs": [],
   "source": [
    "# param X_batch: n by 784 mini-batch of flattened images\n",
    "def forward_pass(X_batch, weight_matrices, biases, activations):\n",
    "    \n",
    "    x = X_batch\n",
    "    caches = []\n",
    "    for i in range(len(weight_matrices)):\n",
    "        x, cache = layer_forward(x, weight_matrices[i], biases[i], activations[i])\n",
    "        caches.append(cache)\n",
    "    \n",
    "    return x, caches"
   ]
  },
  {
   "cell_type": "code",
   "execution_count": 16,
   "id": "10d469d0",
   "metadata": {},
   "outputs": [
    {
     "data": {
      "text/plain": [
       "[array([[-0.00427742, -0.00175934],\n",
       "        [ 0.02597773,  0.01450439],\n",
       "        [ 0.01462573,  0.02592555],\n",
       "        [ 0.00215992,  0.00019207]]),\n",
       " array([[ 0.004514  ],\n",
       "        [-0.00021486]])]"
      ]
     },
     "execution_count": 16,
     "metadata": {},
     "output_type": "execute_result"
    }
   ],
   "source": [
    "weight_matrices"
   ]
  },
  {
   "cell_type": "code",
   "execution_count": 12,
   "id": "5975c8af",
   "metadata": {},
   "outputs": [
    {
     "data": {
      "text/plain": [
       "(array([[0.49732013],\n",
       "        [0.49732464]]),\n",
       " [(array([[ 0.98178495,  0.32574182,  0.39367602,  0.17309336],\n",
       "          [-0.36270975,  0.05783132,  1.09087634, -0.19926157]]),\n",
       "   array([[-0.00427742, -0.00175934],\n",
       "          [ 0.02597773,  0.01450439],\n",
       "          [ 0.01462573,  0.02592555],\n",
       "          [ 0.00215992,  0.00019207]]),\n",
       "   array([[0, 1],\n",
       "          [1, 1]])),\n",
       "  (array([[0.        , 0.00770579],\n",
       "          [0.00477529, 0.02418912]]),\n",
       "   array([[ 0.004514  ],\n",
       "          [-0.00021486]]),\n",
       "   array([[0.24999282],\n",
       "          [0.24999284]]))])"
      ]
     },
     "execution_count": 12,
     "metadata": {},
     "output_type": "execute_result"
    }
   ],
   "source": [
    "with open(\"test_batch_weights_biases.pkl\", \"rb\") as fn:\n",
    "    (X_batch, y_batch, weight_matrices, biases) = pickle.load(fn)\n",
    "\n",
    "forward_pass(X_batch, weight_matrices, biases, [relu_activation, sigmoid_activation])"
   ]
  },
  {
   "cell_type": "markdown",
   "id": "bc7b0375",
   "metadata": {},
   "source": [
    "# part d"
   ]
  },
  {
   "cell_type": "markdown",
   "id": "b9e69e44",
   "metadata": {},
   "source": [
    "QUESTION: We are now at the most difficult part of this problem: implementing the backward pass. Write a function called backward pass that uses the derivative computed in logistic loss and the layer caches to compute the gradients of each of the weight matrices and bias vectors. Implementing this correctly will require both a strong understanding of the backpropagation algorithm, as discussed in lecture, and careful coding/debugging to make sure each step is implemented appropriately. Your finite differences implementation will come in handy here to make sure that your backpropagation implementation is working correctly."
   ]
  },
  {
   "cell_type": "code",
   "execution_count": 39,
   "id": "57db2101",
   "metadata": {},
   "outputs": [],
   "source": [
    "def backward_pass(dL_dg, layer_caches):\n",
    "    \n",
    "    dL_dW, dL_db = [], []\n",
    "    \n",
    "    dL_dg = np.array(dL_dg).reshape(len(dL_dg), 1) # shape for dL_dg is (2,). Want to make it (2, 1)\n",
    "    num_data_points = len(layer_caches[0][0])\n",
    "    \n",
    "    # output layer\n",
    "    L = len(layer_caches) - 1\n",
    "    \n",
    "    x_h, W_h_o, dg_dS_o = layer_caches[L] # x_hidden, W_hidden_output, dg_dS_output\n",
    "    deltas_output = (dL_dg * dg_dS_o) # deltas_output is 2x1 b/c of 2 data points\n",
    "    grad_W_output = np.dot(x_h.T, deltas_output) / num_data_points\n",
    "    dL_dW.insert(0, grad_W_output)\n",
    "    \n",
    "    dL_db.insert(0, deltas_output.mean())\n",
    "    \n",
    "    # hidden layers\n",
    "    running_deltas = deltas_output # for each layer, will need the above layer's deltas\n",
    "    running_weights = W_h_o # for each layer, will need next set of weights\n",
    "    \n",
    "    for layer_cache in reversed(layer_caches[:-1]): # exclude last element of layer_caches\n",
    "        x_layer_minus_1, W_layer_minus_1_to_layer, dg_dS_layer = layer_cache\n",
    "        \n",
    "        deltas_hidden = np.multiply(np.dot(running_deltas, running_weights.T), dg_dS_layer)\n",
    "        grad_W_hidden = np.dot(x_layer_minus_1.T, deltas_hidden) / num_data_points\n",
    "        dL_dW.insert(0, grad_W_hidden)\n",
    "        \n",
    "        print(running_deltas)\n",
    "        print(running_weights.T)\n",
    "        print(dg_dS_layer)\n",
    "        print()\n",
    "        print(x_layer_minus_1.T)\n",
    "        print(deltas_hidden)\n",
    "        print(np.dot(x_layer_minus_1.T, deltas_hidden))\n",
    "        #print(running_weights)\n",
    "        #print(dg_dS_layer)\n",
    "        #print(deltas_hidden)\n",
    "        \n",
    "        running_deltas = deltas_hidden\n",
    "        running_weights = W_layer_minus_1_to_layer # e.g. if layers are i,h,o and current layer is h\n",
    "                                                   # then running_weights now = W_i_h\n",
    "            \n",
    "        dL_db.insert(0, deltas_hidden.mean(axis=0))\n",
    "    \n",
    "    return dL_dW, dL_db"
   ]
  },
  {
   "cell_type": "code",
   "execution_count": 40,
   "id": "f92c26d6",
   "metadata": {},
   "outputs": [
    {
     "name": "stdout",
     "output_type": "stream",
     "text": [
      "[[-0.50267987]\n",
      " [-0.50267536]]\n",
      "[[ 0.004514   -0.00021486]]\n",
      "[[0 1]\n",
      " [1 1]]\n",
      "\n",
      "[[ 0.98178495 -0.36270975]\n",
      " [ 0.32574182  0.05783132]\n",
      " [ 0.39367602  1.09087634]\n",
      " [ 0.17309336 -0.19926157]]\n",
      "[[-0.          0.00010801]\n",
      " [-0.00226907  0.00010801]]\n",
      "[[ 8.23015441e-04  6.68643062e-05]\n",
      " [-1.31223570e-04  4.14282187e-05]\n",
      " [-2.47527970e-03  1.60339793e-04]\n",
      " [ 4.52139356e-04 -2.82613642e-06]]\n"
     ]
    }
   ],
   "source": [
    "activations = [relu_activation, sigmoid_activation]\n",
    "output, layer_caches = forward_pass(X_batch, weight_matrices, biases, activations)\n",
    "output = np.reshape(output, (y_batch.shape[0]))\n",
    "loss, dL_dg = logistic_loss(output, y_batch)\n",
    "\n",
    "grad_Ws, grad_bs = backward_pass(dL_dg, layer_caches)"
   ]
  },
  {
   "cell_type": "markdown",
   "id": "44ed1d82",
   "metadata": {},
   "source": [
    "# part e"
   ]
  },
  {
   "cell_type": "markdown",
   "id": "e32bea89",
   "metadata": {},
   "source": [
    "QUESTION: Now it is time to bring it all together. Using a mini-batch size n of 100 and a step size of 0.1 for SGD, implement a training loop that iterates over the mini-batches of data, computes the forward pass, computes the loss, computes the backward pass, and updates the weights using SGD. Note that typically, instead of randomly sampling each mini-batch, the training data is shuffled and then divided up into mini-batches for efficiency. Each loop over the entire dataset is commonly referred to as an epoch, and the training data is reshuffled for each epoch. Train a two layer network with a hidden dimension of 200 (i.e. layer dims = [784, 200, 1])\n",
    "for 5 epochs. For each timestep, record the average loss across the training mini-batch, the\n",
    "average accuracy across the training mini-batch, the average loss across the entire test set, and\n",
    "the average accuracy across the entire test set. You should be able to achieve a test accuracy of\n",
    "around 98%."
   ]
  },
  {
   "cell_type": "code",
   "execution_count": 34,
   "id": "5ccc80b7",
   "metadata": {},
   "outputs": [
    {
     "name": "stdout",
     "output_type": "stream",
     "text": [
      "Requirement already satisfied: mnist in /opt/conda/lib/python3.9/site-packages (0.2.2)\n",
      "Requirement already satisfied: numpy in /opt/conda/lib/python3.9/site-packages (from mnist) (1.21.2)\n",
      "Note: you may need to restart the kernel to use updated packages.\n"
     ]
    }
   ],
   "source": [
    "pip install mnist"
   ]
  },
  {
   "cell_type": "code",
   "execution_count": 148,
   "id": "1512afcb",
   "metadata": {},
   "outputs": [],
   "source": [
    "(X_train, y_train), (X_test, y_test) = get_mnist_threes_nines()\n",
    "num_train_data = X_train.shape[0]\n",
    "X_train_image_size = X_train.shape[1] * X_train.shape[2]\n",
    "X_train_flat = np.reshape(X_train, (num_train_data, X_train_image_size))\n",
    "\n",
    "num_test_data = X_test.shape[0]\n",
    "X_test_image_size = X_test.shape[1] * X_test.shape[2]\n",
    "X_test_flat = np.reshape(X_test, (num_test_data, X_test_image_size))"
   ]
  },
  {
   "cell_type": "code",
   "execution_count": 150,
   "id": "fb6b5d9a",
   "metadata": {},
   "outputs": [],
   "source": [
    "mini_batches_X = [X_train_flat[i:i+100] for i in range(0, num_train_data, 100)] # 12080/100 = 120.8\n",
    "mini_batches_y = [y_train[i:i+100] for i in range(0, num_train_data, 100)]\n",
    "\n",
    "weight_matrices_train = create_weight_matrices([784, 200, 1])\n",
    "bias_vectors_train = create_bias_vectors([784, 200, 1])\n",
    "activations = [relu_activation, sigmoid_activation]"
   ]
  },
  {
   "cell_type": "code",
   "execution_count": 151,
   "id": "56d632c5",
   "metadata": {},
   "outputs": [
    {
     "name": "stdout",
     "output_type": "stream",
     "text": [
      "finished epoch # 1\n",
      "finished epoch # 2\n",
      "finished epoch # 3\n",
      "finished epoch # 4\n",
      "finished epoch # 5\n"
     ]
    }
   ],
   "source": [
    "step_size = 0.1\n",
    "\n",
    "avg_loss_training, avg_accuracy_training = [], []\n",
    "avg_loss_test, avg_accuracy_test = [], []\n",
    "total_runs = 0\n",
    "\n",
    "G_of_w = weight_matrices_train\n",
    "G_of_b = bias_vectors_train\n",
    "num_weight_matrices = len(G_of_w)\n",
    "num_bias_matrices = len(G_of_b)\n",
    "\n",
    "test_misclassifications = []\n",
    "\n",
    "for epoch in range(5):\n",
    "    \n",
    "    for mini_batch_X, mini_batch_y in zip(mini_batches_X, mini_batches_y):\n",
    "        \n",
    "        # training\n",
    "        output_tr, layer_caches_tr = forward_pass(mini_batch_X, G_of_w, G_of_b, activations)\n",
    "        output_tr = np.reshape(output_tr, (mini_batch_y.shape[0]))\n",
    "        loss_tr, dL_dg_tr = logistic_loss(output_tr, mini_batch_y)\n",
    "        dL_dW_tr, dL_db_tr = backward_pass(dL_dg_tr, layer_caches_tr)\n",
    "        \n",
    "        avg_loss_training.append(loss_tr.mean())\n",
    "        avg_accuracy_training.append(len([1 for i,j in zip(output_tr, mini_batch_y) if np.round(i)==j]) \n",
    "                                     / len(output_tr) ) # assuming threshold = 0.5 so I'll use np.round\n",
    "        \n",
    "        # test\n",
    "        output_test, layer_caches_test = forward_pass(X_test_flat, G_of_w, G_of_b, activations)\n",
    "        output_test = np.reshape(output_test, (y_test.shape[0]))\n",
    "        loss_test, dL_dg_test = logistic_loss(output_test, y_test)\n",
    "        dL_dW_test, dL_db_test = backward_pass(dL_dg_test, layer_caches_test)\n",
    "        \n",
    "        avg_loss_test.append(loss_test.mean())\n",
    "        avg_accuracy_test.append(len([1 for i,j in zip(output_test, y_test) if np.round(i)==j]) \n",
    "                                     / len(output_test) )\n",
    "        \n",
    "        test_misclassify = [i[0] for i,j in zip(enumerate(output_test), y_test) if np.round(i[1]) != j]\n",
    "        test_misclassifications.append(test_misclassify)\n",
    "        \n",
    "        # SGD update\n",
    "        for i in range(num_weight_matrices):\n",
    "            G_of_w[i] = np.subtract(G_of_w[i], np.multiply(step_size, dL_dW_tr[i]))\n",
    "        for i in range(num_bias_matrices):\n",
    "            G_of_b[i] = np.subtract(G_of_b[i], np.multiply(step_size, dL_db_tr[i]))\n",
    "            \n",
    "        total_runs += 1 \n",
    "    \n",
    "    print('finished epoch #', epoch+1)"
   ]
  },
  {
   "cell_type": "markdown",
   "id": "2acab126",
   "metadata": {},
   "source": [
    "# 1.3 deliverables"
   ]
  },
  {
   "cell_type": "markdown",
   "id": "f32ef744",
   "metadata": {},
   "source": [
    "## 1.3 a"
   ]
  },
  {
   "cell_type": "markdown",
   "id": "875e13a3",
   "metadata": {},
   "source": [
    "QUESTION: Compute the finite difference approximation to the gradients of the loss with respect to the\n",
    "weights and biases of the neural network."
   ]
  },
  {
   "cell_type": "code",
   "execution_count": 44,
   "id": "46441951",
   "metadata": {},
   "outputs": [
    {
     "name": "stdout",
     "output_type": "stream",
     "text": [
      "[[ 4.12e-04  3.34e-05]\n",
      " [-6.56e-05  2.07e-05]\n",
      " [-1.24e-03  8.02e-05]\n",
      " [ 2.26e-04 -1.41e-06]]\n",
      "\n",
      "[[-0.  ]\n",
      " [-0.01]]\n",
      "\n",
      "[[-0.  0.]]\n",
      "\n",
      "[[-0.5]]\n"
     ]
    }
   ],
   "source": [
    "with open(\"test_batch_weights_biases.pkl\", \"rb\") as fn:\n",
    "    (X_batch, y_batch, weight_matrices, biases) = pickle.load(fn)\n",
    "grad_Ws, grad_bs = nn_finite_difference_checker(X_batch, \n",
    "                                                   y_batch, \n",
    "                                                   weight_matrices, \n",
    "                                                   biases, \n",
    "                                                   activations)\n",
    "with np.printoptions(precision=2):\n",
    "    print(grad_Ws[0])\n",
    "    print()\n",
    "    print(grad_Ws[1])\n",
    "    print()\n",
    "    print(grad_bs[0])\n",
    "    print()\n",
    "    print(grad_bs[1])"
   ]
  },
  {
   "cell_type": "markdown",
   "id": "86b4fbaa",
   "metadata": {},
   "source": [
    "## 1.3 b"
   ]
  },
  {
   "cell_type": "markdown",
   "id": "72ba6d92",
   "metadata": {},
   "source": [
    "### 1.3 b i)"
   ]
  },
  {
   "cell_type": "markdown",
   "id": "0a916cc2",
   "metadata": {},
   "source": [
    "QUESTION: What does sigmoid activation return for s = np.asarray([1., 0., -1.])?"
   ]
  },
  {
   "cell_type": "code",
   "execution_count": 19,
   "id": "630c71cb",
   "metadata": {},
   "outputs": [
    {
     "data": {
      "text/plain": [
       "(array([0.73105858, 0.5       , 0.26894142]),\n",
       " array([0.19661193, 0.25      , 0.19661193]))"
      ]
     },
     "execution_count": 19,
     "metadata": {},
     "output_type": "execute_result"
    }
   ],
   "source": [
    "s = np.asarray([1., 0., -1.])\n",
    "sigmoid_activation(s)"
   ]
  },
  {
   "cell_type": "markdown",
   "id": "e041c083",
   "metadata": {},
   "source": [
    "### 1.3 b ii)"
   ]
  },
  {
   "cell_type": "markdown",
   "id": "89a67f4a",
   "metadata": {},
   "source": [
    "QUESTION: What does sigmoid activation return for s = np.asarray([-1000, 1000])? Ensure that your implementation of sigmoid activation is\n",
    "numerically stable and does not cause overflows."
   ]
  },
  {
   "cell_type": "code",
   "execution_count": 46,
   "id": "bbbb8a62",
   "metadata": {},
   "outputs": [
    {
     "data": {
      "text/plain": [
       "(array([1.e-15, 1.e+00]), array([1.e-15, 1.e-15]))"
      ]
     },
     "execution_count": 46,
     "metadata": {},
     "output_type": "execute_result"
    }
   ],
   "source": [
    "s = np.asarray([-1000, 1000])\n",
    "sigmoid_activation(s)"
   ]
  },
  {
   "cell_type": "markdown",
   "id": "743666c6",
   "metadata": {},
   "source": [
    "### 1.3 b iii)"
   ]
  },
  {
   "cell_type": "markdown",
   "id": "fc05207f",
   "metadata": {},
   "source": [
    "QUESTION: What is the derivative of the negative log-likelihood loss with respect to g?"
   ]
  },
  {
   "cell_type": "markdown",
   "id": "87394924",
   "metadata": {},
   "source": [
    "$\\frac{\\partial L}{\\partial g} = \\frac{1-y}{1-g} - \\frac{y}{g}$."
   ]
  },
  {
   "cell_type": "code",
   "execution_count": 50,
   "id": "33f078a6",
   "metadata": {},
   "outputs": [
    {
     "data": {
      "text/plain": [
       "-2.0107681311389523"
      ]
     },
     "execution_count": 50,
     "metadata": {},
     "output_type": "execute_result"
    }
   ],
   "source": [
    "logistic_loss(output, y_batch)[1].mean() # dL_dg for the data from 'test_batch_weights_biases.pkl'"
   ]
  },
  {
   "cell_type": "markdown",
   "id": "bd59ea32",
   "metadata": {},
   "source": [
    "### 1.3 b iv)"
   ]
  },
  {
   "cell_type": "markdown",
   "id": "687f5b89",
   "metadata": {},
   "source": [
    "QUESTION: Explain what is returned in cache in your layer forward implementation."
   ]
  },
  {
   "cell_type": "markdown",
   "id": "f355c437",
   "metadata": {},
   "source": [
    "In layer_forward, we start at a layer L and want to go to layer L+1. We pass in the X's for layer L, the weights between layers L and L+1, the biases for layer L and the activation functions.\n",
    "\n",
    "Cache stores the X's, the weights and the derivative of the activation function with respect to the weighted sum.\n",
    "This is important because when we get to the backward pass, we'll need those three things in order to compute the delta's that were specified in lecture."
   ]
  },
  {
   "cell_type": "markdown",
   "id": "32676327",
   "metadata": {},
   "source": [
    "## 1.3 c"
   ]
  },
  {
   "cell_type": "markdown",
   "id": "c6c7b844",
   "metadata": {},
   "source": [
    "QUESTION: Report the average loss for the test data, weight, and biases provided."
   ]
  },
  {
   "cell_type": "code",
   "execution_count": 51,
   "id": "4d032775",
   "metadata": {},
   "outputs": [
    {
     "name": "stdout",
     "output_type": "stream",
     "text": [
      "0.6985168038536878\n"
     ]
    }
   ],
   "source": [
    "with open(\"test_batch_weights_biases.pkl\", \"rb\") as fn:\n",
    "    (X_batch, y_batch, weight_matrices, biases) = pickle.load(fn)\n",
    "activations = [relu_activation, sigmoid_activation]\n",
    "output, _ = forward_pass(X_batch, weight_matrices, biases, activations)\n",
    "loss, dL_dg = logistic_loss(output, y_batch)\n",
    "print(loss.mean())"
   ]
  },
  {
   "cell_type": "markdown",
   "id": "3165d80e",
   "metadata": {},
   "source": [
    "## 1.3 d"
   ]
  },
  {
   "cell_type": "markdown",
   "id": "9ac7c459",
   "metadata": {},
   "source": [
    "QUESTION: Report the gradients of the weights and biases computed from the test data using backpropagation. Compare these gradients to the finite differences approximation and make\n",
    "sure the two gradients are close."
   ]
  },
  {
   "cell_type": "code",
   "execution_count": 53,
   "id": "a79e5295",
   "metadata": {},
   "outputs": [
    {
     "name": "stdout",
     "output_type": "stream",
     "text": [
      "[[ 4.12e-04  3.34e-05]\n",
      " [-6.56e-05  2.07e-05]\n",
      " [-1.24e-03  8.02e-05]\n",
      " [ 2.26e-04 -1.41e-06]]\n",
      "\n",
      "[[-0.  ]\n",
      " [-0.01]]\n",
      "\n",
      "[-0.  0.]\n",
      "\n",
      "-0.502677616312691\n"
     ]
    }
   ],
   "source": [
    "with open(\"test_batch_weights_biases.pkl\", \"rb\") as fn:\n",
    "    (X_batch, y_batch, weight_matrices, biases) = pickle.load(fn)\n",
    "\n",
    "activations = [relu_activation, sigmoid_activation]\n",
    "output, layer_caches = forward_pass(X_batch, weight_matrices, biases, activations)\n",
    "output = np.reshape(output, (y_batch.shape[0]))\n",
    "loss, dL_dg = logistic_loss(output, y_batch)\n",
    "\n",
    "grad_Ws, grad_bs = backward_pass(dL_dg, layer_caches)\n",
    "\n",
    "with np.printoptions(precision=2):\n",
    "    print(grad_Ws[0])\n",
    "    print()\n",
    "    print(grad_Ws[1])\n",
    "    print()\n",
    "    print(grad_bs[0])\n",
    "    print()\n",
    "    print(grad_bs[1])"
   ]
  },
  {
   "cell_type": "markdown",
   "id": "f5cf114c",
   "metadata": {},
   "source": [
    "## 1.3 e"
   ]
  },
  {
   "cell_type": "markdown",
   "id": "28d621ba",
   "metadata": {},
   "source": [
    "### 1.3 e i)"
   ]
  },
  {
   "cell_type": "markdown",
   "id": "c0e812d0",
   "metadata": {},
   "source": [
    "QUESTION: Make a plot of the training and test losses per timestep"
   ]
  },
  {
   "cell_type": "code",
   "execution_count": 60,
   "id": "8674a65c",
   "metadata": {},
   "outputs": [
    {
     "data": {
      "text/plain": [
       "<matplotlib.legend.Legend at 0x7f952ce784c0>"
      ]
     },
     "execution_count": 60,
     "metadata": {},
     "output_type": "execute_result"
    },
    {
     "data": {
      "image/png": "[encoded data removed]",
      "text/plain": [
       "<Figure size 432x288 with 1 Axes>"
      ]
     },
     "metadata": {
      "needs_background": "light"
     },
     "output_type": "display_data"
    }
   ],
   "source": [
    "x = [i for i in range(total_runs)]\n",
    "plt.plot(x, avg_loss_training, label = 'training')\n",
    "plt.plot(x, avg_loss_test, label = 'test')\n",
    "plt.xlabel('Timestep')\n",
    "plt.ylabel('Average loss')\n",
    "plt.title('Training and test losses per timestep')\n",
    "plt.legend()"
   ]
  },
  {
   "cell_type": "markdown",
   "id": "ce9d6f29",
   "metadata": {},
   "source": [
    "### 1.3 e ii)"
   ]
  },
  {
   "cell_type": "markdown",
   "id": "a621a089",
   "metadata": {},
   "source": [
    "QUESTION: Make another plot of the training and test accuracies per timestep."
   ]
  },
  {
   "cell_type": "code",
   "execution_count": 61,
   "id": "2a30def2",
   "metadata": {},
   "outputs": [
    {
     "data": {
      "text/plain": [
       "<matplotlib.legend.Legend at 0x7f952ce1c9d0>"
      ]
     },
     "execution_count": 61,
     "metadata": {},
     "output_type": "execute_result"
    },
    {
     "data": {
      "image/png": "[encoded data removed]",
      "text/plain": [
       "<Figure size 432x288 with 1 Axes>"
      ]
     },
     "metadata": {
      "needs_background": "light"
     },
     "output_type": "display_data"
    }
   ],
   "source": [
    "x = [i for i in range(total_runs)]\n",
    "plt.plot(x, avg_accuracy_training, label = 'training')\n",
    "plt.plot(x, avg_accuracy_test, label = 'test')\n",
    "plt.xlabel('Timestep')\n",
    "plt.ylabel('Average accuracy')\n",
    "plt.title('Training and test losses per timestep')\n",
    "plt.legend()"
   ]
  },
  {
   "cell_type": "markdown",
   "id": "0086fc6d",
   "metadata": {},
   "source": [
    "### 1.3 e iii)"
   ]
  },
  {
   "cell_type": "markdown",
   "id": "635e5c18",
   "metadata": {},
   "source": [
    "QUESTION: Examine the images that your network guesses incorrectly, and explain at a high level\n",
    "what patterns you see in those images."
   ]
  },
  {
   "cell_type": "code",
   "execution_count": 135,
   "id": "a7204cb3",
   "metadata": {},
   "outputs": [
    {
     "data": {
      "text/plain": [
       "[129,\n",
       " 210,\n",
       " 225,\n",
       " 247,\n",
       " 308,\n",
       " 310,\n",
       " 338,\n",
       " 424,\n",
       " 434,\n",
       " 455,\n",
       " 477,\n",
       " 557,\n",
       " 612,\n",
       " 688,\n",
       " 700,\n",
       " 716,\n",
       " 811,\n",
       " 910,\n",
       " 968,\n",
       " 976]"
      ]
     },
     "execution_count": 135,
     "metadata": {},
     "output_type": "execute_result"
    }
   ],
   "source": [
    "test_misclassifications[600][:20]"
   ]
  },
  {
   "cell_type": "code",
   "execution_count": 157,
   "id": "504e35b7",
   "metadata": {},
   "outputs": [
    {
     "data": {
      "text/plain": [
       "<matplotlib.image.AxesImage at 0x7f9529fba5e0>"
      ]
     },
     "execution_count": 157,
     "metadata": {},
     "output_type": "execute_result"
    },
    {
     "data": {
      "image/png": "[encoded data removed]",
      "text/plain": [
       "<Figure size 432x288 with 1 Axes>"
      ]
     },
     "metadata": {
      "needs_background": "light"
     },
     "output_type": "display_data"
    }
   ],
   "source": [
    "plt.imshow(X_test[968])"
   ]
  },
  {
   "cell_type": "markdown",
   "id": "fd1654c0",
   "metadata": {},
   "source": [
    "For misclassified images, here are some pattersn I noticed:\n",
    "1) A lot of the handwritten numbers in the images are not drawn completely--for example, many of the 3's are cut off at the bottom or top. \n",
    "2) Additionally, some of the numbers are not cleanly drawn--they have superfluous strokes jutting out to the side.\n",
    "3) Some of the numbers are tilted to the side--for example, some 9's were drawn almost rotated 90 degrees to one side.\n",
    "4) Some numbers were so poorly drawn that I couldn't confidently classify them myself."
   ]
  },
  {
   "cell_type": "markdown",
   "id": "0908863f",
   "metadata": {},
   "source": [
    "### 1.3 e iv)"
   ]
  },
  {
   "cell_type": "markdown",
   "id": "f7fc77e2",
   "metadata": {},
   "source": [
    "QUESTION: Rerun the neural network training but now increase the step size to 10.0. What happens? You do not need to include plots here."
   ]
  },
  {
   "cell_type": "markdown",
   "id": "f19bc42b",
   "metadata": {},
   "source": [
    "Upon increasing the step_size to 10, the training loss was much more variables. For the small step_size, the variation was small and the loss went down steadily. For the large step_size, the loss would go down but then spike up again from time to time in the initial time steps. This indicates that the gradient descent udpate may have been overshooting because of the large step size. The average accuracy also varied quite a lot more. "
   ]
  }
 ],
 "metadata": {
  "kernelspec": {
   "display_name": "Python 3 (ipykernel)",
   "language": "python",
   "name": "python3"
  },
  "language_info": {
   "codemirror_mode": {
    "name": "ipython",
    "version": 3
   },
   "file_extension": ".py",
   "mimetype": "text/x-python",
   "name": "python",
   "nbconvert_exporter": "python",
   "pygments_lexer": "ipython3",
   "version": "3.9.9"
  }
 },
 "nbformat": 4,
 "nbformat_minor": 5
}
