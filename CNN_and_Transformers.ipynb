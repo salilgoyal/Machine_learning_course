{
  "nbformat": 4,
  "nbformat_minor": 0,
  "metadata": {
    "colab": {
      "name": "Copy of CS189 HW6 Starter Code.ipynb",
      "provenance": [],
      "collapsed_sections": []
    },
    "kernelspec": {
      "display_name": "Python 3",
      "name": "python3"
    },
    "language_info": {
      "name": "python"
    },
    "accelerator": "GPU",
    "widgets": {
      "application/vnd.jupyter.widget-state+json": {
        "5ee77d2436654f5595ed526e3c3a16e9": {
          "model_module": "@jupyter-widgets/controls",
          "model_name": "HBoxModel",
          "model_module_version": "1.5.0",
          "state": {
            "_view_name": "HBoxView",
            "_dom_classes": [],
            "_model_name": "HBoxModel",
            "_view_module": "@jupyter-widgets/controls",
            "_model_module_version": "1.5.0",
            "_view_count": null,
            "_view_module_version": "1.5.0",
            "box_style": "",
            "layout": "IPY_MODEL_4ee3b105f52f44b58cd7be32e3fb8a3a",
            "_model_module": "@jupyter-widgets/controls",
            "children": [
              "IPY_MODEL_a9304a0768ba4abea2aa1222fbcb4d21",
              "IPY_MODEL_116708ac55994b49900e014fe9167492",
              "IPY_MODEL_2b5935e08c154c49915f5a8453730e16"
            ]
          }
        },
        "4ee3b105f52f44b58cd7be32e3fb8a3a": {
          "model_module": "@jupyter-widgets/base",
          "model_name": "LayoutModel",
          "model_module_version": "1.2.0",
          "state": {
            "_view_name": "LayoutView",
            "grid_template_rows": null,
            "right": null,
            "justify_content": null,
            "_view_module": "@jupyter-widgets/base",
            "overflow": null,
            "_model_module_version": "1.2.0",
            "_view_count": null,
            "flex_flow": null,
            "width": null,
            "min_width": null,
            "border": null,
            "align_items": null,
            "bottom": null,
            "_model_module": "@jupyter-widgets/base",
            "top": null,
            "grid_column": null,
            "overflow_y": null,
            "overflow_x": null,
            "grid_auto_flow": null,
            "grid_area": null,
            "grid_template_columns": null,
            "flex": null,
            "_model_name": "LayoutModel",
            "justify_items": null,
            "grid_row": null,
            "max_height": null,
            "align_content": null,
            "visibility": null,
            "align_self": null,
            "height": null,
            "min_height": null,
            "padding": null,
            "grid_auto_rows": null,
            "grid_gap": null,
            "max_width": null,
            "order": null,
            "_view_module_version": "1.2.0",
            "grid_template_areas": null,
            "object_position": null,
            "object_fit": null,
            "grid_auto_columns": null,
            "margin": null,
            "display": null,
            "left": null
          }
        },
        "a9304a0768ba4abea2aa1222fbcb4d21": {
          "model_module": "@jupyter-widgets/controls",
          "model_name": "HTMLModel",
          "model_module_version": "1.5.0",
          "state": {
            "_view_name": "HTMLView",
            "style": "IPY_MODEL_2433e4936356410f9333db3ccf34c7e1",
            "_dom_classes": [],
            "description": "",
            "_model_name": "HTMLModel",
            "placeholder": "​",
            "_view_module": "@jupyter-widgets/controls",
            "_model_module_version": "1.5.0",
            "value": "",
            "_view_count": null,
            "_view_module_version": "1.5.0",
            "description_tooltip": null,
            "_model_module": "@jupyter-widgets/controls",
            "layout": "IPY_MODEL_28d14a8ca57b4031905814f421dd0d29"
          }
        },
        "116708ac55994b49900e014fe9167492": {
          "model_module": "@jupyter-widgets/controls",
          "model_name": "FloatProgressModel",
          "model_module_version": "1.5.0",
          "state": {
            "_view_name": "ProgressView",
            "style": "IPY_MODEL_0b1db21fb386466cb15528b1d81ffdb5",
            "_dom_classes": [],
            "description": "",
            "_model_name": "FloatProgressModel",
            "bar_style": "success",
            "max": 9912422,
            "_view_module": "@jupyter-widgets/controls",
            "_model_module_version": "1.5.0",
            "value": 9912422,
            "_view_count": null,
            "_view_module_version": "1.5.0",
            "orientation": "horizontal",
            "min": 0,
            "description_tooltip": null,
            "_model_module": "@jupyter-widgets/controls",
            "layout": "IPY_MODEL_a127070688494955b8641173baf6a367"
          }
        },
        "2b5935e08c154c49915f5a8453730e16": {
          "model_module": "@jupyter-widgets/controls",
          "model_name": "HTMLModel",
          "model_module_version": "1.5.0",
          "state": {
            "_view_name": "HTMLView",
            "style": "IPY_MODEL_d6483cde5bca41949a5b7ec4f8c120e5",
            "_dom_classes": [],
            "description": "",
            "_model_name": "HTMLModel",
            "placeholder": "​",
            "_view_module": "@jupyter-widgets/controls",
            "_model_module_version": "1.5.0",
            "value": " 9913344/? [00:00&lt;00:00, 33063054.85it/s]",
            "_view_count": null,
            "_view_module_version": "1.5.0",
            "description_tooltip": null,
            "_model_module": "@jupyter-widgets/controls",
            "layout": "IPY_MODEL_42057fefe0e34fbf814e9967d08f9007"
          }
        },
        "2433e4936356410f9333db3ccf34c7e1": {
          "model_module": "@jupyter-widgets/controls",
          "model_name": "DescriptionStyleModel",
          "model_module_version": "1.5.0",
          "state": {
            "_view_name": "StyleView",
            "_model_name": "DescriptionStyleModel",
            "description_width": "",
            "_view_module": "@jupyter-widgets/base",
            "_model_module_version": "1.5.0",
            "_view_count": null,
            "_view_module_version": "1.2.0",
            "_model_module": "@jupyter-widgets/controls"
          }
        },
        "28d14a8ca57b4031905814f421dd0d29": {
          "model_module": "@jupyter-widgets/base",
          "model_name": "LayoutModel",
          "model_module_version": "1.2.0",
          "state": {
            "_view_name": "LayoutView",
            "grid_template_rows": null,
            "right": null,
            "justify_content": null,
            "_view_module": "@jupyter-widgets/base",
            "overflow": null,
            "_model_module_version": "1.2.0",
            "_view_count": null,
            "flex_flow": null,
            "width": null,
            "min_width": null,
            "border": null,
            "align_items": null,
            "bottom": null,
            "_model_module": "@jupyter-widgets/base",
            "top": null,
            "grid_column": null,
            "overflow_y": null,
            "overflow_x": null,
            "grid_auto_flow": null,
            "grid_area": null,
            "grid_template_columns": null,
            "flex": null,
            "_model_name": "LayoutModel",
            "justify_items": null,
            "grid_row": null,
            "max_height": null,
            "align_content": null,
            "visibility": null,
            "align_self": null,
            "height": null,
            "min_height": null,
            "padding": null,
            "grid_auto_rows": null,
            "grid_gap": null,
            "max_width": null,
            "order": null,
            "_view_module_version": "1.2.0",
            "grid_template_areas": null,
            "object_position": null,
            "object_fit": null,
            "grid_auto_columns": null,
            "margin": null,
            "display": null,
            "left": null
          }
        },
        "0b1db21fb386466cb15528b1d81ffdb5": {
          "model_module": "@jupyter-widgets/controls",
          "model_name": "ProgressStyleModel",
          "model_module_version": "1.5.0",
          "state": {
            "_view_name": "StyleView",
            "_model_name": "ProgressStyleModel",
            "description_width": "",
            "_view_module": "@jupyter-widgets/base",
            "_model_module_version": "1.5.0",
            "_view_count": null,
            "_view_module_version": "1.2.0",
            "bar_color": null,
            "_model_module": "@jupyter-widgets/controls"
          }
        },
        "a127070688494955b8641173baf6a367": {
          "model_module": "@jupyter-widgets/base",
          "model_name": "LayoutModel",
          "model_module_version": "1.2.0",
          "state": {
            "_view_name": "LayoutView",
            "grid_template_rows": null,
            "right": null,
            "justify_content": null,
            "_view_module": "@jupyter-widgets/base",
            "overflow": null,
            "_model_module_version": "1.2.0",
            "_view_count": null,
            "flex_flow": null,
            "width": null,
            "min_width": null,
            "border": null,
            "align_items": null,
            "bottom": null,
            "_model_module": "@jupyter-widgets/base",
            "top": null,
            "grid_column": null,
            "overflow_y": null,
            "overflow_x": null,
            "grid_auto_flow": null,
            "grid_area": null,
            "grid_template_columns": null,
            "flex": null,
            "_model_name": "LayoutModel",
            "justify_items": null,
            "grid_row": null,
            "max_height": null,
            "align_content": null,
            "visibility": null,
            "align_self": null,
            "height": null,
            "min_height": null,
            "padding": null,
            "grid_auto_rows": null,
            "grid_gap": null,
            "max_width": null,
            "order": null,
            "_view_module_version": "1.2.0",
            "grid_template_areas": null,
            "object_position": null,
            "object_fit": null,
            "grid_auto_columns": null,
            "margin": null,
            "display": null,
            "left": null
          }
        },
        "d6483cde5bca41949a5b7ec4f8c120e5": {
          "model_module": "@jupyter-widgets/controls",
          "model_name": "DescriptionStyleModel",
          "model_module_version": "1.5.0",
          "state": {
            "_view_name": "StyleView",
            "_model_name": "DescriptionStyleModel",
            "description_width": "",
            "_view_module": "@jupyter-widgets/base",
            "_model_module_version": "1.5.0",
            "_view_count": null,
            "_view_module_version": "1.2.0",
            "_model_module": "@jupyter-widgets/controls"
          }
        },
        "42057fefe0e34fbf814e9967d08f9007": {
          "model_module": "@jupyter-widgets/base",
          "model_name": "LayoutModel",
          "model_module_version": "1.2.0",
          "state": {
            "_view_name": "LayoutView",
            "grid_template_rows": null,
            "right": null,
            "justify_content": null,
            "_view_module": "@jupyter-widgets/base",
            "overflow": null,
            "_model_module_version": "1.2.0",
            "_view_count": null,
            "flex_flow": null,
            "width": null,
            "min_width": null,
            "border": null,
            "align_items": null,
            "bottom": null,
            "_model_module": "@jupyter-widgets/base",
            "top": null,
            "grid_column": null,
            "overflow_y": null,
            "overflow_x": null,
            "grid_auto_flow": null,
            "grid_area": null,
            "grid_template_columns": null,
            "flex": null,
            "_model_name": "LayoutModel",
            "justify_items": null,
            "grid_row": null,
            "max_height": null,
            "align_content": null,
            "visibility": null,
            "align_self": null,
            "height": null,
            "min_height": null,
            "padding": null,
            "grid_auto_rows": null,
            "grid_gap": null,
            "max_width": null,
            "order": null,
            "_view_module_version": "1.2.0",
            "grid_template_areas": null,
            "object_position": null,
            "object_fit": null,
            "grid_auto_columns": null,
            "margin": null,
            "display": null,
            "left": null
          }
        },
        "c31828320e1a409f8601cd87deee393c": {
          "model_module": "@jupyter-widgets/controls",
          "model_name": "HBoxModel",
          "model_module_version": "1.5.0",
          "state": {
            "_view_name": "HBoxView",
            "_dom_classes": [],
            "_model_name": "HBoxModel",
            "_view_module": "@jupyter-widgets/controls",
            "_model_module_version": "1.5.0",
            "_view_count": null,
            "_view_module_version": "1.5.0",
            "box_style": "",
            "layout": "IPY_MODEL_de057534cb37486f907b8714c213bcbb",
            "_model_module": "@jupyter-widgets/controls",
            "children": [
              "IPY_MODEL_0022f2d70fc54497ad64288c25c0182e",
              "IPY_MODEL_dac5a7bef47c4284828166ff8fa1a6e0",
              "IPY_MODEL_ffc63d2fe24f473883aa1f7cbb3f300f"
            ]
          }
        },
        "de057534cb37486f907b8714c213bcbb": {
          "model_module": "@jupyter-widgets/base",
          "model_name": "LayoutModel",
          "model_module_version": "1.2.0",
          "state": {
            "_view_name": "LayoutView",
            "grid_template_rows": null,
            "right": null,
            "justify_content": null,
            "_view_module": "@jupyter-widgets/base",
            "overflow": null,
            "_model_module_version": "1.2.0",
            "_view_count": null,
            "flex_flow": null,
            "width": null,
            "min_width": null,
            "border": null,
            "align_items": null,
            "bottom": null,
            "_model_module": "@jupyter-widgets/base",
            "top": null,
            "grid_column": null,
            "overflow_y": null,
            "overflow_x": null,
            "grid_auto_flow": null,
            "grid_area": null,
            "grid_template_columns": null,
            "flex": null,
            "_model_name": "LayoutModel",
            "justify_items": null,
            "grid_row": null,
            "max_height": null,
            "align_content": null,
            "visibility": null,
            "align_self": null,
            "height": null,
            "min_height": null,
            "padding": null,
            "grid_auto_rows": null,
            "grid_gap": null,
            "max_width": null,
            "order": null,
            "_view_module_version": "1.2.0",
            "grid_template_areas": null,
            "object_position": null,
            "object_fit": null,
            "grid_auto_columns": null,
            "margin": null,
            "display": null,
            "left": null
          }
        },
        "0022f2d70fc54497ad64288c25c0182e": {
          "model_module": "@jupyter-widgets/controls",
          "model_name": "HTMLModel",
          "model_module_version": "1.5.0",
          "state": {
            "_view_name": "HTMLView",
            "style": "IPY_MODEL_756c10e869e5454188874b95ed1de755",
            "_dom_classes": [],
            "description": "",
            "_model_name": "HTMLModel",
            "placeholder": "​",
            "_view_module": "@jupyter-widgets/controls",
            "_model_module_version": "1.5.0",
            "value": "",
            "_view_count": null,
            "_view_module_version": "1.5.0",
            "description_tooltip": null,
            "_model_module": "@jupyter-widgets/controls",
            "layout": "IPY_MODEL_b6386d77dbac4832bf35e925b6e4667d"
          }
        },
        "dac5a7bef47c4284828166ff8fa1a6e0": {
          "model_module": "@jupyter-widgets/controls",
          "model_name": "FloatProgressModel",
          "model_module_version": "1.5.0",
          "state": {
            "_view_name": "ProgressView",
            "style": "IPY_MODEL_25e6e949908943fb8ddbb108996060f0",
            "_dom_classes": [],
            "description": "",
            "_model_name": "FloatProgressModel",
            "bar_style": "success",
            "max": 28881,
            "_view_module": "@jupyter-widgets/controls",
            "_model_module_version": "1.5.0",
            "value": 28881,
            "_view_count": null,
            "_view_module_version": "1.5.0",
            "orientation": "horizontal",
            "min": 0,
            "description_tooltip": null,
            "_model_module": "@jupyter-widgets/controls",
            "layout": "IPY_MODEL_af984a5674254c9794e9ccad7b0d25d2"
          }
        },
        "ffc63d2fe24f473883aa1f7cbb3f300f": {
          "model_module": "@jupyter-widgets/controls",
          "model_name": "HTMLModel",
          "model_module_version": "1.5.0",
          "state": {
            "_view_name": "HTMLView",
            "style": "IPY_MODEL_1ef0238b8ceb478a8f9d78e1d0218a55",
            "_dom_classes": [],
            "description": "",
            "_model_name": "HTMLModel",
            "placeholder": "​",
            "_view_module": "@jupyter-widgets/controls",
            "_model_module_version": "1.5.0",
            "value": " 29696/? [00:00&lt;00:00, 658319.51it/s]",
            "_view_count": null,
            "_view_module_version": "1.5.0",
            "description_tooltip": null,
            "_model_module": "@jupyter-widgets/controls",
            "layout": "IPY_MODEL_556095df95ff432ea5bf811a10aafbf4"
          }
        },
        "756c10e869e5454188874b95ed1de755": {
          "model_module": "@jupyter-widgets/controls",
          "model_name": "DescriptionStyleModel",
          "model_module_version": "1.5.0",
          "state": {
            "_view_name": "StyleView",
            "_model_name": "DescriptionStyleModel",
            "description_width": "",
            "_view_module": "@jupyter-widgets/base",
            "_model_module_version": "1.5.0",
            "_view_count": null,
            "_view_module_version": "1.2.0",
            "_model_module": "@jupyter-widgets/controls"
          }
        },
        "b6386d77dbac4832bf35e925b6e4667d": {
          "model_module": "@jupyter-widgets/base",
          "model_name": "LayoutModel",
          "model_module_version": "1.2.0",
          "state": {
            "_view_name": "LayoutView",
            "grid_template_rows": null,
            "right": null,
            "justify_content": null,
            "_view_module": "@jupyter-widgets/base",
            "overflow": null,
            "_model_module_version": "1.2.0",
            "_view_count": null,
            "flex_flow": null,
            "width": null,
            "min_width": null,
            "border": null,
            "align_items": null,
            "bottom": null,
            "_model_module": "@jupyter-widgets/base",
            "top": null,
            "grid_column": null,
            "overflow_y": null,
            "overflow_x": null,
            "grid_auto_flow": null,
            "grid_area": null,
            "grid_template_columns": null,
            "flex": null,
            "_model_name": "LayoutModel",
            "justify_items": null,
            "grid_row": null,
            "max_height": null,
            "align_content": null,
            "visibility": null,
            "align_self": null,
            "height": null,
            "min_height": null,
            "padding": null,
            "grid_auto_rows": null,
            "grid_gap": null,
            "max_width": null,
            "order": null,
            "_view_module_version": "1.2.0",
            "grid_template_areas": null,
            "object_position": null,
            "object_fit": null,
            "grid_auto_columns": null,
            "margin": null,
            "display": null,
            "left": null
          }
        },
        "25e6e949908943fb8ddbb108996060f0": {
          "model_module": "@jupyter-widgets/controls",
          "model_name": "ProgressStyleModel",
          "model_module_version": "1.5.0",
          "state": {
            "_view_name": "StyleView",
            "_model_name": "ProgressStyleModel",
            "description_width": "",
            "_view_module": "@jupyter-widgets/base",
            "_model_module_version": "1.5.0",
            "_view_count": null,
            "_view_module_version": "1.2.0",
            "bar_color": null,
            "_model_module": "@jupyter-widgets/controls"
          }
        },
        "af984a5674254c9794e9ccad7b0d25d2": {
          "model_module": "@jupyter-widgets/base",
          "model_name": "LayoutModel",
          "model_module_version": "1.2.0",
          "state": {
            "_view_name": "LayoutView",
            "grid_template_rows": null,
            "right": null,
            "justify_content": null,
            "_view_module": "@jupyter-widgets/base",
            "overflow": null,
            "_model_module_version": "1.2.0",
            "_view_count": null,
            "flex_flow": null,
            "width": null,
            "min_width": null,
            "border": null,
            "align_items": null,
            "bottom": null,
            "_model_module": "@jupyter-widgets/base",
            "top": null,
            "grid_column": null,
            "overflow_y": null,
            "overflow_x": null,
            "grid_auto_flow": null,
            "grid_area": null,
            "grid_template_columns": null,
            "flex": null,
            "_model_name": "LayoutModel",
            "justify_items": null,
            "grid_row": null,
            "max_height": null,
            "align_content": null,
            "visibility": null,
            "align_self": null,
            "height": null,
            "min_height": null,
            "padding": null,
            "grid_auto_rows": null,
            "grid_gap": null,
            "max_width": null,
            "order": null,
            "_view_module_version": "1.2.0",
            "grid_template_areas": null,
            "object_position": null,
            "object_fit": null,
            "grid_auto_columns": null,
            "margin": null,
            "display": null,
            "left": null
          }
        },
        "1ef0238b8ceb478a8f9d78e1d0218a55": {
          "model_module": "@jupyter-widgets/controls",
          "model_name": "DescriptionStyleModel",
          "model_module_version": "1.5.0",
          "state": {
            "_view_name": "StyleView",
            "_model_name": "DescriptionStyleModel",
            "description_width": "",
            "_view_module": "@jupyter-widgets/base",
            "_model_module_version": "1.5.0",
            "_view_count": null,
            "_view_module_version": "1.2.0",
            "_model_module": "@jupyter-widgets/controls"
          }
        },
        "556095df95ff432ea5bf811a10aafbf4": {
          "model_module": "@jupyter-widgets/base",
          "model_name": "LayoutModel",
          "model_module_version": "1.2.0",
          "state": {
            "_view_name": "LayoutView",
            "grid_template_rows": null,
            "right": null,
            "justify_content": null,
            "_view_module": "@jupyter-widgets/base",
            "overflow": null,
            "_model_module_version": "1.2.0",
            "_view_count": null,
            "flex_flow": null,
            "width": null,
            "min_width": null,
            "border": null,
            "align_items": null,
            "bottom": null,
            "_model_module": "@jupyter-widgets/base",
            "top": null,
            "grid_column": null,
            "overflow_y": null,
            "overflow_x": null,
            "grid_auto_flow": null,
            "grid_area": null,
            "grid_template_columns": null,
            "flex": null,
            "_model_name": "LayoutModel",
            "justify_items": null,
            "grid_row": null,
            "max_height": null,
            "align_content": null,
            "visibility": null,
            "align_self": null,
            "height": null,
            "min_height": null,
            "padding": null,
            "grid_auto_rows": null,
            "grid_gap": null,
            "max_width": null,
            "order": null,
            "_view_module_version": "1.2.0",
            "grid_template_areas": null,
            "object_position": null,
            "object_fit": null,
            "grid_auto_columns": null,
            "margin": null,
            "display": null,
            "left": null
          }
        },
        "83c99afeb3b44754af18589710abe1ae": {
          "model_module": "@jupyter-widgets/controls",
          "model_name": "HBoxModel",
          "model_module_version": "1.5.0",
          "state": {
            "_view_name": "HBoxView",
            "_dom_classes": [],
            "_model_name": "HBoxModel",
            "_view_module": "@jupyter-widgets/controls",
            "_model_module_version": "1.5.0",
            "_view_count": null,
            "_view_module_version": "1.5.0",
            "box_style": "",
            "layout": "IPY_MODEL_aaf7e1a29ea943838685bfe8333f7d42",
            "_model_module": "@jupyter-widgets/controls",
            "children": [
              "IPY_MODEL_7a1a21edf8024668aa108a4e671e954a",
              "IPY_MODEL_78bea6e2e566425cbeda9fb822db561a",
              "IPY_MODEL_535c910bfaaf44ceb6a0266ad29d4d38"
            ]
          }
        },
        "aaf7e1a29ea943838685bfe8333f7d42": {
          "model_module": "@jupyter-widgets/base",
          "model_name": "LayoutModel",
          "model_module_version": "1.2.0",
          "state": {
            "_view_name": "LayoutView",
            "grid_template_rows": null,
            "right": null,
            "justify_content": null,
            "_view_module": "@jupyter-widgets/base",
            "overflow": null,
            "_model_module_version": "1.2.0",
            "_view_count": null,
            "flex_flow": null,
            "width": null,
            "min_width": null,
            "border": null,
            "align_items": null,
            "bottom": null,
            "_model_module": "@jupyter-widgets/base",
            "top": null,
            "grid_column": null,
            "overflow_y": null,
            "overflow_x": null,
            "grid_auto_flow": null,
            "grid_area": null,
            "grid_template_columns": null,
            "flex": null,
            "_model_name": "LayoutModel",
            "justify_items": null,
            "grid_row": null,
            "max_height": null,
            "align_content": null,
            "visibility": null,
            "align_self": null,
            "height": null,
            "min_height": null,
            "padding": null,
            "grid_auto_rows": null,
            "grid_gap": null,
            "max_width": null,
            "order": null,
            "_view_module_version": "1.2.0",
            "grid_template_areas": null,
            "object_position": null,
            "object_fit": null,
            "grid_auto_columns": null,
            "margin": null,
            "display": null,
            "left": null
          }
        },
        "7a1a21edf8024668aa108a4e671e954a": {
          "model_module": "@jupyter-widgets/controls",
          "model_name": "HTMLModel",
          "model_module_version": "1.5.0",
          "state": {
            "_view_name": "HTMLView",
            "style": "IPY_MODEL_971db3d0d7c24291bbb18da950f3a11d",
            "_dom_classes": [],
            "description": "",
            "_model_name": "HTMLModel",
            "placeholder": "​",
            "_view_module": "@jupyter-widgets/controls",
            "_model_module_version": "1.5.0",
            "value": "",
            "_view_count": null,
            "_view_module_version": "1.5.0",
            "description_tooltip": null,
            "_model_module": "@jupyter-widgets/controls",
            "layout": "IPY_MODEL_a8672fac241f4d78b7b739098f0a87de"
          }
        },
        "78bea6e2e566425cbeda9fb822db561a": {
          "model_module": "@jupyter-widgets/controls",
          "model_name": "FloatProgressModel",
          "model_module_version": "1.5.0",
          "state": {
            "_view_name": "ProgressView",
            "style": "IPY_MODEL_e596a3ee45ec4078bdc94a412d9ded8b",
            "_dom_classes": [],
            "description": "",
            "_model_name": "FloatProgressModel",
            "bar_style": "success",
            "max": 1648877,
            "_view_module": "@jupyter-widgets/controls",
            "_model_module_version": "1.5.0",
            "value": 1648877,
            "_view_count": null,
            "_view_module_version": "1.5.0",
            "orientation": "horizontal",
            "min": 0,
            "description_tooltip": null,
            "_model_module": "@jupyter-widgets/controls",
            "layout": "IPY_MODEL_c7d2b52feb0b45038dfa345bd208b65d"
          }
        },
        "535c910bfaaf44ceb6a0266ad29d4d38": {
          "model_module": "@jupyter-widgets/controls",
          "model_name": "HTMLModel",
          "model_module_version": "1.5.0",
          "state": {
            "_view_name": "HTMLView",
            "style": "IPY_MODEL_3030d935bd7c4fedb4fa2d327e5c47dc",
            "_dom_classes": [],
            "description": "",
            "_model_name": "HTMLModel",
            "placeholder": "​",
            "_view_module": "@jupyter-widgets/controls",
            "_model_module_version": "1.5.0",
            "value": " 1649664/? [00:00&lt;00:00, 6706710.70it/s]",
            "_view_count": null,
            "_view_module_version": "1.5.0",
            "description_tooltip": null,
            "_model_module": "@jupyter-widgets/controls",
            "layout": "IPY_MODEL_b39be399d74b4eff8fb1ec3c43e0ef69"
          }
        },
        "971db3d0d7c24291bbb18da950f3a11d": {
          "model_module": "@jupyter-widgets/controls",
          "model_name": "DescriptionStyleModel",
          "model_module_version": "1.5.0",
          "state": {
            "_view_name": "StyleView",
            "_model_name": "DescriptionStyleModel",
            "description_width": "",
            "_view_module": "@jupyter-widgets/base",
            "_model_module_version": "1.5.0",
            "_view_count": null,
            "_view_module_version": "1.2.0",
            "_model_module": "@jupyter-widgets/controls"
          }
        },
        "a8672fac241f4d78b7b739098f0a87de": {
          "model_module": "@jupyter-widgets/base",
          "model_name": "LayoutModel",
          "model_module_version": "1.2.0",
          "state": {
            "_view_name": "LayoutView",
            "grid_template_rows": null,
            "right": null,
            "justify_content": null,
            "_view_module": "@jupyter-widgets/base",
            "overflow": null,
            "_model_module_version": "1.2.0",
            "_view_count": null,
            "flex_flow": null,
            "width": null,
            "min_width": null,
            "border": null,
            "align_items": null,
            "bottom": null,
            "_model_module": "@jupyter-widgets/base",
            "top": null,
            "grid_column": null,
            "overflow_y": null,
            "overflow_x": null,
            "grid_auto_flow": null,
            "grid_area": null,
            "grid_template_columns": null,
            "flex": null,
            "_model_name": "LayoutModel",
            "justify_items": null,
            "grid_row": null,
            "max_height": null,
            "align_content": null,
            "visibility": null,
            "align_self": null,
            "height": null,
            "min_height": null,
            "padding": null,
            "grid_auto_rows": null,
            "grid_gap": null,
            "max_width": null,
            "order": null,
            "_view_module_version": "1.2.0",
            "grid_template_areas": null,
            "object_position": null,
            "object_fit": null,
            "grid_auto_columns": null,
            "margin": null,
            "display": null,
            "left": null
          }
        },
        "e596a3ee45ec4078bdc94a412d9ded8b": {
          "model_module": "@jupyter-widgets/controls",
          "model_name": "ProgressStyleModel",
          "model_module_version": "1.5.0",
          "state": {
            "_view_name": "StyleView",
            "_model_name": "ProgressStyleModel",
            "description_width": "",
            "_view_module": "@jupyter-widgets/base",
            "_model_module_version": "1.5.0",
            "_view_count": null,
            "_view_module_version": "1.2.0",
            "bar_color": null,
            "_model_module": "@jupyter-widgets/controls"
          }
        },
        "c7d2b52feb0b45038dfa345bd208b65d": {
          "model_module": "@jupyter-widgets/base",
          "model_name": "LayoutModel",
          "model_module_version": "1.2.0",
          "state": {
            "_view_name": "LayoutView",
            "grid_template_rows": null,
            "right": null,
            "justify_content": null,
            "_view_module": "@jupyter-widgets/base",
            "overflow": null,
            "_model_module_version": "1.2.0",
            "_view_count": null,
            "flex_flow": null,
            "width": null,
            "min_width": null,
            "border": null,
            "align_items": null,
            "bottom": null,
            "_model_module": "@jupyter-widgets/base",
            "top": null,
            "grid_column": null,
            "overflow_y": null,
            "overflow_x": null,
            "grid_auto_flow": null,
            "grid_area": null,
            "grid_template_columns": null,
            "flex": null,
            "_model_name": "LayoutModel",
            "justify_items": null,
            "grid_row": null,
            "max_height": null,
            "align_content": null,
            "visibility": null,
            "align_self": null,
            "height": null,
            "min_height": null,
            "padding": null,
            "grid_auto_rows": null,
            "grid_gap": null,
            "max_width": null,
            "order": null,
            "_view_module_version": "1.2.0",
            "grid_template_areas": null,
            "object_position": null,
            "object_fit": null,
            "grid_auto_columns": null,
            "margin": null,
            "display": null,
            "left": null
          }
        },
        "3030d935bd7c4fedb4fa2d327e5c47dc": {
          "model_module": "@jupyter-widgets/controls",
          "model_name": "DescriptionStyleModel",
          "model_module_version": "1.5.0",
          "state": {
            "_view_name": "StyleView",
            "_model_name": "DescriptionStyleModel",
            "description_width": "",
            "_view_module": "@jupyter-widgets/base",
            "_model_module_version": "1.5.0",
            "_view_count": null,
            "_view_module_version": "1.2.0",
            "_model_module": "@jupyter-widgets/controls"
          }
        },
        "b39be399d74b4eff8fb1ec3c43e0ef69": {
          "model_module": "@jupyter-widgets/base",
          "model_name": "LayoutModel",
          "model_module_version": "1.2.0",
          "state": {
            "_view_name": "LayoutView",
            "grid_template_rows": null,
            "right": null,
            "justify_content": null,
            "_view_module": "@jupyter-widgets/base",
            "overflow": null,
            "_model_module_version": "1.2.0",
            "_view_count": null,
            "flex_flow": null,
            "width": null,
            "min_width": null,
            "border": null,
            "align_items": null,
            "bottom": null,
            "_model_module": "@jupyter-widgets/base",
            "top": null,
            "grid_column": null,
            "overflow_y": null,
            "overflow_x": null,
            "grid_auto_flow": null,
            "grid_area": null,
            "grid_template_columns": null,
            "flex": null,
            "_model_name": "LayoutModel",
            "justify_items": null,
            "grid_row": null,
            "max_height": null,
            "align_content": null,
            "visibility": null,
            "align_self": null,
            "height": null,
            "min_height": null,
            "padding": null,
            "grid_auto_rows": null,
            "grid_gap": null,
            "max_width": null,
            "order": null,
            "_view_module_version": "1.2.0",
            "grid_template_areas": null,
            "object_position": null,
            "object_fit": null,
            "grid_auto_columns": null,
            "margin": null,
            "display": null,
            "left": null
          }
        },
        "3c0f103336a24c509387ce27e9e36a1e": {
          "model_module": "@jupyter-widgets/controls",
          "model_name": "HBoxModel",
          "model_module_version": "1.5.0",
          "state": {
            "_view_name": "HBoxView",
            "_dom_classes": [],
            "_model_name": "HBoxModel",
            "_view_module": "@jupyter-widgets/controls",
            "_model_module_version": "1.5.0",
            "_view_count": null,
            "_view_module_version": "1.5.0",
            "box_style": "",
            "layout": "IPY_MODEL_016ac39c07974e9aa14184b6c28db318",
            "_model_module": "@jupyter-widgets/controls",
            "children": [
              "IPY_MODEL_c4673b5ada194151a9914369a52fe881",
              "IPY_MODEL_424158b2e9a244809fba0062bd39b8b9",
              "IPY_MODEL_530d852c498843f9b512b8040090f3d9"
            ]
          }
        },
        "016ac39c07974e9aa14184b6c28db318": {
          "model_module": "@jupyter-widgets/base",
          "model_name": "LayoutModel",
          "model_module_version": "1.2.0",
          "state": {
            "_view_name": "LayoutView",
            "grid_template_rows": null,
            "right": null,
            "justify_content": null,
            "_view_module": "@jupyter-widgets/base",
            "overflow": null,
            "_model_module_version": "1.2.0",
            "_view_count": null,
            "flex_flow": null,
            "width": null,
            "min_width": null,
            "border": null,
            "align_items": null,
            "bottom": null,
            "_model_module": "@jupyter-widgets/base",
            "top": null,
            "grid_column": null,
            "overflow_y": null,
            "overflow_x": null,
            "grid_auto_flow": null,
            "grid_area": null,
            "grid_template_columns": null,
            "flex": null,
            "_model_name": "LayoutModel",
            "justify_items": null,
            "grid_row": null,
            "max_height": null,
            "align_content": null,
            "visibility": null,
            "align_self": null,
            "height": null,
            "min_height": null,
            "padding": null,
            "grid_auto_rows": null,
            "grid_gap": null,
            "max_width": null,
            "order": null,
            "_view_module_version": "1.2.0",
            "grid_template_areas": null,
            "object_position": null,
            "object_fit": null,
            "grid_auto_columns": null,
            "margin": null,
            "display": null,
            "left": null
          }
        },
        "c4673b5ada194151a9914369a52fe881": {
          "model_module": "@jupyter-widgets/controls",
          "model_name": "HTMLModel",
          "model_module_version": "1.5.0",
          "state": {
            "_view_name": "HTMLView",
            "style": "IPY_MODEL_24520f4b68c54ed8ac9393e731ddaa4c",
            "_dom_classes": [],
            "description": "",
            "_model_name": "HTMLModel",
            "placeholder": "​",
            "_view_module": "@jupyter-widgets/controls",
            "_model_module_version": "1.5.0",
            "value": "",
            "_view_count": null,
            "_view_module_version": "1.5.0",
            "description_tooltip": null,
            "_model_module": "@jupyter-widgets/controls",
            "layout": "IPY_MODEL_866349939b614df0b839af315ad734c1"
          }
        },
        "424158b2e9a244809fba0062bd39b8b9": {
          "model_module": "@jupyter-widgets/controls",
          "model_name": "FloatProgressModel",
          "model_module_version": "1.5.0",
          "state": {
            "_view_name": "ProgressView",
            "style": "IPY_MODEL_499543f04e3e47bcbfa22a0b34d543a0",
            "_dom_classes": [],
            "description": "",
            "_model_name": "FloatProgressModel",
            "bar_style": "success",
            "max": 4542,
            "_view_module": "@jupyter-widgets/controls",
            "_model_module_version": "1.5.0",
            "value": 4542,
            "_view_count": null,
            "_view_module_version": "1.5.0",
            "orientation": "horizontal",
            "min": 0,
            "description_tooltip": null,
            "_model_module": "@jupyter-widgets/controls",
            "layout": "IPY_MODEL_07ab4df6a4134a82ba8bee822d1f94ea"
          }
        },
        "530d852c498843f9b512b8040090f3d9": {
          "model_module": "@jupyter-widgets/controls",
          "model_name": "HTMLModel",
          "model_module_version": "1.5.0",
          "state": {
            "_view_name": "HTMLView",
            "style": "IPY_MODEL_84ce8494fdaf42c2b48002edf00b0c0c",
            "_dom_classes": [],
            "description": "",
            "_model_name": "HTMLModel",
            "placeholder": "​",
            "_view_module": "@jupyter-widgets/controls",
            "_model_module_version": "1.5.0",
            "value": " 5120/? [00:00&lt;00:00, 138003.33it/s]",
            "_view_count": null,
            "_view_module_version": "1.5.0",
            "description_tooltip": null,
            "_model_module": "@jupyter-widgets/controls",
            "layout": "IPY_MODEL_cf4ed003330c4199ad2a8872b27327b4"
          }
        },
        "24520f4b68c54ed8ac9393e731ddaa4c": {
          "model_module": "@jupyter-widgets/controls",
          "model_name": "DescriptionStyleModel",
          "model_module_version": "1.5.0",
          "state": {
            "_view_name": "StyleView",
            "_model_name": "DescriptionStyleModel",
            "description_width": "",
            "_view_module": "@jupyter-widgets/base",
            "_model_module_version": "1.5.0",
            "_view_count": null,
            "_view_module_version": "1.2.0",
            "_model_module": "@jupyter-widgets/controls"
          }
        },
        "866349939b614df0b839af315ad734c1": {
          "model_module": "@jupyter-widgets/base",
          "model_name": "LayoutModel",
          "model_module_version": "1.2.0",
          "state": {
            "_view_name": "LayoutView",
            "grid_template_rows": null,
            "right": null,
            "justify_content": null,
            "_view_module": "@jupyter-widgets/base",
            "overflow": null,
            "_model_module_version": "1.2.0",
            "_view_count": null,
            "flex_flow": null,
            "width": null,
            "min_width": null,
            "border": null,
            "align_items": null,
            "bottom": null,
            "_model_module": "@jupyter-widgets/base",
            "top": null,
            "grid_column": null,
            "overflow_y": null,
            "overflow_x": null,
            "grid_auto_flow": null,
            "grid_area": null,
            "grid_template_columns": null,
            "flex": null,
            "_model_name": "LayoutModel",
            "justify_items": null,
            "grid_row": null,
            "max_height": null,
            "align_content": null,
            "visibility": null,
            "align_self": null,
            "height": null,
            "min_height": null,
            "padding": null,
            "grid_auto_rows": null,
            "grid_gap": null,
            "max_width": null,
            "order": null,
            "_view_module_version": "1.2.0",
            "grid_template_areas": null,
            "object_position": null,
            "object_fit": null,
            "grid_auto_columns": null,
            "margin": null,
            "display": null,
            "left": null
          }
        },
        "499543f04e3e47bcbfa22a0b34d543a0": {
          "model_module": "@jupyter-widgets/controls",
          "model_name": "ProgressStyleModel",
          "model_module_version": "1.5.0",
          "state": {
            "_view_name": "StyleView",
            "_model_name": "ProgressStyleModel",
            "description_width": "",
            "_view_module": "@jupyter-widgets/base",
            "_model_module_version": "1.5.0",
            "_view_count": null,
            "_view_module_version": "1.2.0",
            "bar_color": null,
            "_model_module": "@jupyter-widgets/controls"
          }
        },
        "07ab4df6a4134a82ba8bee822d1f94ea": {
          "model_module": "@jupyter-widgets/base",
          "model_name": "LayoutModel",
          "model_module_version": "1.2.0",
          "state": {
            "_view_name": "LayoutView",
            "grid_template_rows": null,
            "right": null,
            "justify_content": null,
            "_view_module": "@jupyter-widgets/base",
            "overflow": null,
            "_model_module_version": "1.2.0",
            "_view_count": null,
            "flex_flow": null,
            "width": null,
            "min_width": null,
            "border": null,
            "align_items": null,
            "bottom": null,
            "_model_module": "@jupyter-widgets/base",
            "top": null,
            "grid_column": null,
            "overflow_y": null,
            "overflow_x": null,
            "grid_auto_flow": null,
            "grid_area": null,
            "grid_template_columns": null,
            "flex": null,
            "_model_name": "LayoutModel",
            "justify_items": null,
            "grid_row": null,
            "max_height": null,
            "align_content": null,
            "visibility": null,
            "align_self": null,
            "height": null,
            "min_height": null,
            "padding": null,
            "grid_auto_rows": null,
            "grid_gap": null,
            "max_width": null,
            "order": null,
            "_view_module_version": "1.2.0",
            "grid_template_areas": null,
            "object_position": null,
            "object_fit": null,
            "grid_auto_columns": null,
            "margin": null,
            "display": null,
            "left": null
          }
        },
        "84ce8494fdaf42c2b48002edf00b0c0c": {
          "model_module": "@jupyter-widgets/controls",
          "model_name": "DescriptionStyleModel",
          "model_module_version": "1.5.0",
          "state": {
            "_view_name": "StyleView",
            "_model_name": "DescriptionStyleModel",
            "description_width": "",
            "_view_module": "@jupyter-widgets/base",
            "_model_module_version": "1.5.0",
            "_view_count": null,
            "_view_module_version": "1.2.0",
            "_model_module": "@jupyter-widgets/controls"
          }
        },
        "cf4ed003330c4199ad2a8872b27327b4": {
          "model_module": "@jupyter-widgets/base",
          "model_name": "LayoutModel",
          "model_module_version": "1.2.0",
          "state": {
            "_view_name": "LayoutView",
            "grid_template_rows": null,
            "right": null,
            "justify_content": null,
            "_view_module": "@jupyter-widgets/base",
            "overflow": null,
            "_model_module_version": "1.2.0",
            "_view_count": null,
            "flex_flow": null,
            "width": null,
            "min_width": null,
            "border": null,
            "align_items": null,
            "bottom": null,
            "_model_module": "@jupyter-widgets/base",
            "top": null,
            "grid_column": null,
            "overflow_y": null,
            "overflow_x": null,
            "grid_auto_flow": null,
            "grid_area": null,
            "grid_template_columns": null,
            "flex": null,
            "_model_name": "LayoutModel",
            "justify_items": null,
            "grid_row": null,
            "max_height": null,
            "align_content": null,
            "visibility": null,
            "align_self": null,
            "height": null,
            "min_height": null,
            "padding": null,
            "grid_auto_rows": null,
            "grid_gap": null,
            "max_width": null,
            "order": null,
            "_view_module_version": "1.2.0",
            "grid_template_areas": null,
            "object_position": null,
            "object_fit": null,
            "grid_auto_columns": null,
            "margin": null,
            "display": null,
            "left": null
          }
        }
      }
    }
  },
  "cells": [
    {
      "cell_type": "markdown",
      "metadata": {
        "id": "ufmHMbThnWEs"
      },
      "source": [
        "# Problem 2: MNIST: Hand-written digit classification"
      ]
    },
    {
      "cell_type": "code",
      "metadata": {
        "id": "bSnMFngy9sPA"
      },
      "source": [
        "import numpy as np\n",
        "import matplotlib.pyplot as plt\n",
        "%matplotlib inline\n",
        "\n",
        "import torch\n",
        "import torch.nn as nn\n",
        "import torch.nn.functional as F\n",
        "from torchvision import datasets, transforms"
      ],
      "execution_count": null,
      "outputs": []
    },
    {
      "cell_type": "markdown",
      "metadata": {
        "id": "zwocJbzfnZv5"
      },
      "source": [
        "## Loading MNIST\n",
        "The `torchvision` module contains links to many standard datasets. We can load the MNIST dataset into a `Dataset` object as follows:"
      ]
    },
    {
      "cell_type": "code",
      "metadata": {
        "id": "6NUqKdYrFpXA",
        "colab": {
          "base_uri": "https://localhost:8080/",
          "height": 437,
          "referenced_widgets": [
            "5ee77d2436654f5595ed526e3c3a16e9",
            "4ee3b105f52f44b58cd7be32e3fb8a3a",
            "a9304a0768ba4abea2aa1222fbcb4d21",
            "116708ac55994b49900e014fe9167492",
            "2b5935e08c154c49915f5a8453730e16",
            "2433e4936356410f9333db3ccf34c7e1",
            "28d14a8ca57b4031905814f421dd0d29",
            "0b1db21fb386466cb15528b1d81ffdb5",
            "a127070688494955b8641173baf6a367",
            "d6483cde5bca41949a5b7ec4f8c120e5",
            "42057fefe0e34fbf814e9967d08f9007",
            "c31828320e1a409f8601cd87deee393c",
            "de057534cb37486f907b8714c213bcbb",
            "0022f2d70fc54497ad64288c25c0182e",
            "dac5a7bef47c4284828166ff8fa1a6e0",
            "ffc63d2fe24f473883aa1f7cbb3f300f",
            "756c10e869e5454188874b95ed1de755",
            "b6386d77dbac4832bf35e925b6e4667d",
            "25e6e949908943fb8ddbb108996060f0",
            "af984a5674254c9794e9ccad7b0d25d2",
            "1ef0238b8ceb478a8f9d78e1d0218a55",
            "556095df95ff432ea5bf811a10aafbf4",
            "83c99afeb3b44754af18589710abe1ae",
            "aaf7e1a29ea943838685bfe8333f7d42",
            "7a1a21edf8024668aa108a4e671e954a",
            "78bea6e2e566425cbeda9fb822db561a",
            "535c910bfaaf44ceb6a0266ad29d4d38",
            "971db3d0d7c24291bbb18da950f3a11d",
            "a8672fac241f4d78b7b739098f0a87de",
            "e596a3ee45ec4078bdc94a412d9ded8b",
            "c7d2b52feb0b45038dfa345bd208b65d",
            "3030d935bd7c4fedb4fa2d327e5c47dc",
            "b39be399d74b4eff8fb1ec3c43e0ef69",
            "3c0f103336a24c509387ce27e9e36a1e",
            "016ac39c07974e9aa14184b6c28db318",
            "c4673b5ada194151a9914369a52fe881",
            "424158b2e9a244809fba0062bd39b8b9",
            "530d852c498843f9b512b8040090f3d9",
            "24520f4b68c54ed8ac9393e731ddaa4c",
            "866349939b614df0b839af315ad734c1",
            "499543f04e3e47bcbfa22a0b34d543a0",
            "07ab4df6a4134a82ba8bee822d1f94ea",
            "84ce8494fdaf42c2b48002edf00b0c0c",
            "cf4ed003330c4199ad2a8872b27327b4"
          ]
        },
        "outputId": "96322f9d-8d18-4481-8dda-a19a80243a4e"
      },
      "source": [
        "train_dataset = datasets.MNIST('./data', train=True, download=True,  # Downloads into a directory ../data\n",
        "                               transform=transforms.ToTensor())\n",
        "train_dataset, valid_dataset = torch.utils.data.random_split(train_dataset, \n",
        "                                                             [int(len(train_dataset)*0.8), int(len(train_dataset)*0.2)], \n",
        "                                                             generator=torch.Generator().manual_seed(42))\n",
        "test_dataset = datasets.MNIST('./data', train=False, download=False,  # No need to download again\n",
        "                              transform=transforms.ToTensor())"
      ],
      "execution_count": null,
      "outputs": [
        {
          "output_type": "stream",
          "name": "stdout",
          "text": [
            "Downloading http://yann.lecun.com/exdb/mnist/train-images-idx3-ubyte.gz\n",
            "Downloading http://yann.lecun.com/exdb/mnist/train-images-idx3-ubyte.gz to ./data/MNIST/raw/train-images-idx3-ubyte.gz\n"
          ]
        },
        {
          "output_type": "display_data",
          "data": {
            "application/vnd.jupyter.widget-view+json": {
              "model_id": "5ee77d2436654f5595ed526e3c3a16e9",
              "version_minor": 0,
              "version_major": 2
            },
            "text/plain": [
              "  0%|          | 0/9912422 [00:00<?, ?it/s]"
            ]
          },
          "metadata": {}
        },
        {
          "output_type": "stream",
          "name": "stdout",
          "text": [
            "Extracting ./data/MNIST/raw/train-images-idx3-ubyte.gz to ./data/MNIST/raw\n",
            "\n",
            "Downloading http://yann.lecun.com/exdb/mnist/train-labels-idx1-ubyte.gz\n",
            "Downloading http://yann.lecun.com/exdb/mnist/train-labels-idx1-ubyte.gz to ./data/MNIST/raw/train-labels-idx1-ubyte.gz\n"
          ]
        },
        {
          "output_type": "display_data",
          "data": {
            "application/vnd.jupyter.widget-view+json": {
              "model_id": "c31828320e1a409f8601cd87deee393c",
              "version_minor": 0,
              "version_major": 2
            },
            "text/plain": [
              "  0%|          | 0/28881 [00:00<?, ?it/s]"
            ]
          },
          "metadata": {}
        },
        {
          "output_type": "stream",
          "name": "stdout",
          "text": [
            "Extracting ./data/MNIST/raw/train-labels-idx1-ubyte.gz to ./data/MNIST/raw\n",
            "\n",
            "Downloading http://yann.lecun.com/exdb/mnist/t10k-images-idx3-ubyte.gz\n",
            "Downloading http://yann.lecun.com/exdb/mnist/t10k-images-idx3-ubyte.gz to ./data/MNIST/raw/t10k-images-idx3-ubyte.gz\n"
          ]
        },
        {
          "output_type": "display_data",
          "data": {
            "application/vnd.jupyter.widget-view+json": {
              "model_id": "83c99afeb3b44754af18589710abe1ae",
              "version_minor": 0,
              "version_major": 2
            },
            "text/plain": [
              "  0%|          | 0/1648877 [00:00<?, ?it/s]"
            ]
          },
          "metadata": {}
        },
        {
          "output_type": "stream",
          "name": "stdout",
          "text": [
            "Extracting ./data/MNIST/raw/t10k-images-idx3-ubyte.gz to ./data/MNIST/raw\n",
            "\n",
            "Downloading http://yann.lecun.com/exdb/mnist/t10k-labels-idx1-ubyte.gz\n",
            "Downloading http://yann.lecun.com/exdb/mnist/t10k-labels-idx1-ubyte.gz to ./data/MNIST/raw/t10k-labels-idx1-ubyte.gz\n"
          ]
        },
        {
          "output_type": "display_data",
          "data": {
            "application/vnd.jupyter.widget-view+json": {
              "model_id": "3c0f103336a24c509387ce27e9e36a1e",
              "version_minor": 0,
              "version_major": 2
            },
            "text/plain": [
              "  0%|          | 0/4542 [00:00<?, ?it/s]"
            ]
          },
          "metadata": {}
        },
        {
          "output_type": "stream",
          "name": "stdout",
          "text": [
            "Extracting ./data/MNIST/raw/t10k-labels-idx1-ubyte.gz to ./data/MNIST/raw\n",
            "\n"
          ]
        }
      ]
    },
    {
      "cell_type": "markdown",
      "metadata": {
        "id": "dPRWRI-TomP7"
      },
      "source": [
        "The `Dataset` object is an iterable where each element is a tuple of (input `Tensor`, target):"
      ]
    },
    {
      "cell_type": "code",
      "metadata": {
        "id": "4Y1oIfzooiLa",
        "colab": {
          "base_uri": "https://localhost:8080/"
        },
        "outputId": "3c53742f-3609-460e-d78c-882434131f45"
      },
      "source": [
        "type(train_dataset[0][0])"
      ],
      "execution_count": null,
      "outputs": [
        {
          "output_type": "execute_result",
          "data": {
            "text/plain": [
              "torch.Tensor"
            ]
          },
          "metadata": {},
          "execution_count": 13
        }
      ]
    },
    {
      "cell_type": "code",
      "metadata": {
        "colab": {
          "base_uri": "https://localhost:8080/"
        },
        "id": "csKECWofu9HG",
        "outputId": "cb90c535-3b09-4ec0-d778-60c074097a7f"
      },
      "source": [
        "print(len(train_dataset), len(test_dataset))\n",
        "print(type(train_dataset[0][0]), train_dataset[0][0].shape)"
      ],
      "execution_count": null,
      "outputs": [
        {
          "output_type": "stream",
          "name": "stdout",
          "text": [
            "48000 10000\n",
            "<class 'torch.Tensor'> torch.Size([1, 28, 28])\n"
          ]
        }
      ]
    },
    {
      "cell_type": "markdown",
      "metadata": {
        "id": "q8Gf22fNovo_"
      },
      "source": [
        "We can convert images to numpy arrays and plot them with matplotlib:"
      ]
    },
    {
      "cell_type": "code",
      "metadata": {
        "id": "l7RZ_f05oohA",
        "colab": {
          "base_uri": "https://localhost:8080/",
          "height": 299
        },
        "outputId": "3438e0e5-b0cd-4310-b607-91dce9675bfd"
      },
      "source": [
        "print(train_dataset[0][1])\n",
        "plt.imshow(train_dataset[0][0][0].numpy(), cmap='gray')"
      ],
      "execution_count": null,
      "outputs": [
        {
          "output_type": "stream",
          "name": "stdout",
          "text": [
            "6\n"
          ]
        },
        {
          "output_type": "execute_result",
          "data": {
            "text/plain": [
              "<matplotlib.image.AxesImage at 0x7f11a1d58bd0>"
            ]
          },
          "metadata": {},
          "execution_count": 42
        },
        {
          "output_type": "display_data",
          "data": {
            "image/png": "[encoded data removed]",
            "text/plain": [
              "<Figure size 432x288 with 1 Axes>"
            ]
          },
          "metadata": {
            "needs_background": "light"
          }
        }
      ]
    },
    {
      "cell_type": "markdown",
      "metadata": {
        "id": "1Eoo90tlxc6y"
      },
      "source": [
        "**train_dataset contains 48,000 images. train_dataset[0] will return the an object associated with the first image. train_dataset[0][0] is a tensor of size 1x28x28 (each image has 1 channel and is of size 28x28 pixels). train_dataset[0][0][0] is the actual image (have to index into the channel). train_dataset[0][1] is the label of the image (e.g. if the first image is a 6 then train_dataset[0][1] = 6).**\n",
        "\n",
        "**test_dataset contains 10,000 images.**"
      ]
    },
    {
      "cell_type": "markdown",
      "metadata": {
        "id": "hmKx25zZo7C6"
      },
      "source": [
        "## Example linear model\n",
        "Let's instantiate a linear model and take a look at the layers."
      ]
    },
    {
      "cell_type": "code",
      "metadata": {
        "id": "kPskp-x3oxNN",
        "colab": {
          "base_uri": "https://localhost:8080/"
        },
        "outputId": "32154b49-470b-40bc-f27b-f7f5f9eb1914"
      },
      "source": [
        "model = nn.Sequential(\n",
        "    # For fully-connected networks, we don't use the 2D structure of an image at all. Our network\n",
        "    # takes in a flat vector of the pixel values as input.\n",
        "    nn.Flatten(),  \n",
        "    nn.Linear(784, 10),\n",
        ")\n",
        "print(model)"
      ],
      "execution_count": null,
      "outputs": [
        {
          "output_type": "stream",
          "name": "stdout",
          "text": [
            "Sequential(\n",
            "  (0): Flatten(start_dim=1, end_dim=-1)\n",
            "  (1): Linear(in_features=784, out_features=10, bias=True)\n",
            ")\n"
          ]
        }
      ]
    },
    {
      "cell_type": "markdown",
      "metadata": {
        "id": "2mTmn0zWGBU2"
      },
      "source": [
        "## Training and validation\n",
        "\n",
        "Now let's try to train the linear model as an example."
      ]
    },
    {
      "cell_type": "code",
      "metadata": {
        "id": "ZtFhoE5sGEb9"
      },
      "source": [
        "def run_training_loop(model, batch_size=32, n_epochs=10, lr=1e-3):\n",
        "\n",
        "    # We could write our training procedure manually and directly index the `Dataset` objects,\n",
        "    # but the `DataLoader` object conveniently creates an iterable for automatically creating random minibatches:\n",
        "    train_loader = torch.utils.data.DataLoader(train_dataset, batch_size=batch_size, shuffle=True)\n",
        "    valid_loader = torch.utils.data.DataLoader(valid_dataset, batch_size=batch_size, shuffle=True)\n",
        "\n",
        "    # Choose Adam as the optimizer\n",
        "    optimizer = torch.optim.Adam(model.parameters(), lr=lr)\n",
        "\n",
        "    # Use the cross entropy loss function\n",
        "    loss_fn = nn.CrossEntropyLoss()\n",
        "\n",
        "    # store metrics\n",
        "    train_loss_history = np.zeros([n_epochs, 1])\n",
        "    valid_accuracy_history = np.zeros([n_epochs, 1])\n",
        "    valid_loss_history = np.zeros([n_epochs, 1])\n",
        "\n",
        "    for epoch in range(n_epochs):\n",
        "\n",
        "        # Some layers, such as Dropout, behave differently during training\n",
        "        model.train()\n",
        "\n",
        "        train_loss = 0\n",
        "        for batch_idx, (data, target) in enumerate(train_loader):\n",
        "\n",
        "            # Erase accumulated gradients\n",
        "            optimizer.zero_grad()\n",
        "\n",
        "            # Forward pass\n",
        "            output = model(data)\n",
        "\n",
        "            # Calculate loss\n",
        "            loss = loss_fn(output, target)\n",
        "            train_loss += loss.item()\n",
        "\n",
        "            # Backward pass\n",
        "            loss.backward()\n",
        "            \n",
        "            # Weight update\n",
        "            optimizer.step()\n",
        "\n",
        "        train_loss_history[epoch] = train_loss / len(train_loader.dataset)\n",
        "\n",
        "        # Track loss each epoch\n",
        "        print('Train Epoch: %d  Average loss: %.4f' %\n",
        "              (epoch + 1,  train_loss_history[epoch]))\n",
        "\n",
        "        # Putting layers like Dropout into evaluation mode\n",
        "        model.eval()\n",
        "\n",
        "        valid_loss = 0\n",
        "        correct = 0\n",
        "\n",
        "        # Turning off automatic differentiation\n",
        "        with torch.no_grad():\n",
        "            for data, target in valid_loader:\n",
        "                output = model(data)\n",
        "                valid_loss += loss_fn(output, target).item()  # Sum up batch loss\n",
        "                pred = output.argmax(dim=1, keepdim=True)  # Get the index of the max class score\n",
        "                correct += pred.eq(target.view_as(pred)).sum().item()\n",
        "\n",
        "        valid_loss_history[epoch] = valid_loss / len(valid_loader.dataset)\n",
        "        valid_accuracy_history[epoch] = correct / len(valid_loader.dataset)\n",
        "\n",
        "        print('Valid set: Average loss: %.4f, Accuracy: %d/%d (%.4f)\\n' %\n",
        "              (valid_loss_history[epoch], correct, len(valid_loader.dataset),\n",
        "              100. * valid_accuracy_history[epoch]))\n",
        "    \n",
        "    return model, train_loss_history, valid_loss_history, valid_accuracy_history"
      ],
      "execution_count": null,
      "outputs": []
    },
    {
      "cell_type": "code",
      "metadata": {
        "id": "evRxrDb-VJFk",
        "colab": {
          "base_uri": "https://localhost:8080/",
          "height": 775
        },
        "outputId": "a8ff62f3-f16c-4562-fb44-dd9e651ff676"
      },
      "source": [
        "trained_model, train_loss_history, valid_loss_history, valid_accuracy_history = run_training_loop(model)\n",
        "plt.plot(train_loss_history, label='train')\n",
        "plt.plot(valid_loss_history, label='valid')\n",
        "plt.legend()\n",
        "plt.show()"
      ],
      "execution_count": null,
      "outputs": [
        {
          "output_type": "stream",
          "name": "stdout",
          "text": [
            "Train Epoch: 1  Average loss: 0.0154\n",
            "Valid set: Average loss: 0.0108, Accuracy: 10860/12000 (90.5000)\n",
            "\n",
            "Train Epoch: 2  Average loss: 0.0097\n",
            "Valid set: Average loss: 0.0099, Accuracy: 10924/12000 (91.0333)\n",
            "\n",
            "Train Epoch: 3  Average loss: 0.0089\n",
            "Valid set: Average loss: 0.0095, Accuracy: 10985/12000 (91.5417)\n",
            "\n",
            "Train Epoch: 4  Average loss: 0.0085\n",
            "Valid set: Average loss: 0.0095, Accuracy: 10996/12000 (91.6333)\n",
            "\n",
            "Train Epoch: 5  Average loss: 0.0083\n",
            "Valid set: Average loss: 0.0093, Accuracy: 11006/12000 (91.7167)\n",
            "\n",
            "Train Epoch: 6  Average loss: 0.0081\n",
            "Valid set: Average loss: 0.0093, Accuracy: 11002/12000 (91.6833)\n",
            "\n",
            "Train Epoch: 7  Average loss: 0.0080\n",
            "Valid set: Average loss: 0.0093, Accuracy: 10996/12000 (91.6333)\n",
            "\n",
            "Train Epoch: 8  Average loss: 0.0079\n",
            "Valid set: Average loss: 0.0093, Accuracy: 11024/12000 (91.8667)\n",
            "\n",
            "Train Epoch: 9  Average loss: 0.0078\n",
            "Valid set: Average loss: 0.0093, Accuracy: 11000/12000 (91.6667)\n",
            "\n",
            "Train Epoch: 10  Average loss: 0.0077\n",
            "Valid set: Average loss: 0.0091, Accuracy: 11054/12000 (92.1167)\n",
            "\n"
          ]
        },
        {
          "output_type": "display_data",
          "data": {
            "image/png": "[encoded data removed]",
            "text/plain": [
              "<Figure size 432x288 with 1 Axes>"
            ]
          },
          "metadata": {
            "needs_background": "light"
          }
        }
      ]
    },
    {
      "cell_type": "markdown",
      "metadata": {
        "id": "Uk38yQyirQEW"
      },
      "source": [
        "## Testing\n",
        "After selecting hyperparameters from the validation set, evaluate on the held-out test set (distinct from the validation set)."
      ]
    },
    {
      "cell_type": "code",
      "metadata": {
        "id": "E9rwgEpNGUyJ"
      },
      "source": [
        "def test_performance(model, batch_size=32):\n",
        "    test_loader = torch.utils.data.DataLoader(test_dataset, batch_size=batch_size, shuffle=True) \n",
        "\n",
        "    # Putting layers like Dropout into evaluation mode\n",
        "    model.eval()\n",
        "    # Use the cross entropy loss function\n",
        "    loss_fn = nn.CrossEntropyLoss()\n",
        "\n",
        "    test_loss = 0\n",
        "    correct = 0\n",
        "\n",
        "    # Turning off automatic differentiation\n",
        "    with torch.no_grad():\n",
        "        for data, target in test_loader:\n",
        "            output = model(data)\n",
        "            test_loss += loss_fn(output, target).item()  # Sum up batch loss\n",
        "            pred = output.argmax(dim=1, keepdim=True)  # Get the index of the max class score\n",
        "            correct += pred.eq(target.view_as(pred)).sum().item()\n",
        "\n",
        "    test_loss /= len(test_loader.dataset)\n",
        "    test_accuracy = correct / len(test_loader.dataset)\n",
        "\n",
        "    print('Test set: Average loss: %.4f, Accuracy: %d/%d (%.4f)' %\n",
        "          (test_loss, correct, len(test_loader.dataset),\n",
        "          100. * test_accuracy))\n",
        "    return test_loss, test_accuracy"
      ],
      "execution_count": null,
      "outputs": []
    },
    {
      "cell_type": "code",
      "metadata": {
        "id": "QWN_AItsGWPd",
        "colab": {
          "base_uri": "https://localhost:8080/"
        },
        "outputId": "4578ee3a-969d-4e2c-b078-abb6485cec18"
      },
      "source": [
        "test_performance(model)"
      ],
      "execution_count": null,
      "outputs": [
        {
          "output_type": "stream",
          "name": "stdout",
          "text": [
            "Test set: Average loss: 0.0084, Accuracy: 9267/10000 (92.6700)\n"
          ]
        },
        {
          "output_type": "execute_result",
          "data": {
            "text/plain": [
              "(0.008358465664833784, 0.9267)"
            ]
          },
          "metadata": {},
          "execution_count": 48
        }
      ]
    },
    {
      "cell_type": "markdown",
      "metadata": {
        "id": "V9-FidZsGd__"
      },
      "source": [
        "Not bad! Even the linear model gets above 92% accuracy."
      ]
    },
    {
      "cell_type": "markdown",
      "metadata": {
        "id": "jlSez9XVGnc9"
      },
      "source": [
        "## Visualizing predictions\n",
        "\n",
        "We can visualize and inspect the model predictions. Here is an example of how to visualize the wrongly classified cases among the first 20 validation examples."
      ]
    },
    {
      "cell_type": "code",
      "metadata": {
        "id": "OX6auNyhGqTZ",
        "colab": {
          "base_uri": "https://localhost:8080/",
          "height": 545
        },
        "outputId": "c2f967b6-4a64-4d2e-cd6a-cb3bac7b8b0c"
      },
      "source": [
        "# Putting layers like Dropout into evaluation mode\n",
        "model.eval()\n",
        "\n",
        "# Turning off automatic differentiation\n",
        "with torch.no_grad():\n",
        "      for i in range(20):\n",
        "        data, target = valid_dataset[i]\n",
        "        output = model(data)\n",
        "        pred = output.argmax(dim=1, keepdim=True)  # Get the index of the max class score\n",
        "        if pred.item() != target:\n",
        "            plt.imshow(data[0].numpy(), cmap='gray')\n",
        "            plt.title(f'Predicted: {pred.item()}')\n",
        "            plt.show()"
      ],
      "execution_count": null,
      "outputs": [
        {
          "output_type": "display_data",
          "data": {
            "image/png": "[encoded data removed]",
            "text/plain": [
              "<Figure size 432x288 with 1 Axes>"
            ]
          },
          "metadata": {
            "needs_background": "light"
          }
        },
        {
          "output_type": "display_data",
          "data": {
            "image/png": "[encoded data removed]",
            "text/plain": [
              "<Figure size 432x288 with 1 Axes>"
            ]
          },
          "metadata": {
            "needs_background": "light"
          }
        }
      ]
    },
    {
      "cell_type": "markdown",
      "metadata": {
        "id": "Gp2rPfwVGvGG"
      },
      "source": [
        "# Your code: 2 (b)"
      ]
    },
    {
      "cell_type": "code",
      "metadata": {
        "id": "TaH2mCHeGxQO"
      },
      "source": [
        "model = nn.Sequential(\n",
        "    # In problem 2, we don't use the 2D structure of an image at all. Our network\n",
        "    # takes in a flat vector of the pixel values as input.\n",
        "    nn.Flatten(),  \n",
        "    # TODO\n",
        "    nn.Linear(784, 200),\n",
        "    nn.ReLU(),\n",
        "    nn.Dropout(0.5),\n",
        "    nn.Linear(200, 10),\n",
        "    #nn.ReLU(),\n",
        "    #nn.Dropout(0.70),\n",
        "    #nn.Linear(70, 50),\n",
        "    #nn.ReLU(),\n",
        "    #nn.Linear(50, 10)\n",
        "    # the nn.CrossEntropyLoss (called in run_training_loop) has a softmax, so not implementing one here\n",
        ")\n"
      ],
      "execution_count": null,
      "outputs": []
    },
    {
      "cell_type": "code",
      "metadata": {
        "id": "R3qabsPEG0bx",
        "colab": {
          "base_uri": "https://localhost:8080/",
          "height": 809
        },
        "outputId": "7bab6922-9c01-474c-b164-c47f09dfe3d5"
      },
      "source": [
        "trained_model, train_loss_history, valid_loss_history, valid_accuracy_history = run_training_loop(model, 100, 10, 0.005)\n",
        "plt.plot(train_loss_history, label='train')\n",
        "plt.plot(valid_loss_history, label='valid')\n",
        "plt.legend()\n",
        "plt.show()\n",
        "\n",
        "test_performance(model)"
      ],
      "execution_count": null,
      "outputs": [
        {
          "output_type": "stream",
          "name": "stdout",
          "text": [
            "Train Epoch: 1  Average loss: 0.0035\n",
            "Valid set: Average loss: 0.0018, Accuracy: 11373/12000 (94.7750)\n",
            "\n",
            "Train Epoch: 2  Average loss: 0.0022\n",
            "Valid set: Average loss: 0.0014, Accuracy: 11513/12000 (95.9417)\n",
            "\n",
            "Train Epoch: 3  Average loss: 0.0018\n",
            "Valid set: Average loss: 0.0012, Accuracy: 11564/12000 (96.3667)\n",
            "\n",
            "Train Epoch: 4  Average loss: 0.0016\n",
            "Valid set: Average loss: 0.0011, Accuracy: 11608/12000 (96.7333)\n",
            "\n",
            "Train Epoch: 5  Average loss: 0.0016\n",
            "Valid set: Average loss: 0.0012, Accuracy: 11592/12000 (96.6000)\n",
            "\n",
            "Train Epoch: 6  Average loss: 0.0015\n",
            "Valid set: Average loss: 0.0011, Accuracy: 11645/12000 (97.0417)\n",
            "\n",
            "Train Epoch: 7  Average loss: 0.0014\n",
            "Valid set: Average loss: 0.0012, Accuracy: 11607/12000 (96.7250)\n",
            "\n",
            "Train Epoch: 8  Average loss: 0.0014\n",
            "Valid set: Average loss: 0.0011, Accuracy: 11665/12000 (97.2083)\n",
            "\n",
            "Train Epoch: 9  Average loss: 0.0013\n",
            "Valid set: Average loss: 0.0011, Accuracy: 11672/12000 (97.2667)\n",
            "\n",
            "Train Epoch: 10  Average loss: 0.0012\n",
            "Valid set: Average loss: 0.0011, Accuracy: 11659/12000 (97.1583)\n",
            "\n"
          ]
        },
        {
          "output_type": "display_data",
          "data": {
            "image/png": "[encoded data removed]",
            "text/plain": [
              "<Figure size 432x288 with 1 Axes>"
            ]
          },
          "metadata": {
            "needs_background": "light"
          }
        },
        {
          "output_type": "stream",
          "name": "stdout",
          "text": [
            "Test set: Average loss: 0.0031, Accuracy: 9750/10000 (97.5000)\n"
          ]
        },
        {
          "output_type": "execute_result",
          "data": {
            "text/plain": [
              "(0.0031079366430232765, 0.975)"
            ]
          },
          "metadata": {},
          "execution_count": 29
        }
      ]
    },
    {
      "cell_type": "markdown",
      "metadata": {
        "id": "XRsOIR2Z-TEd"
      },
      "source": [
        "Documentation:\n",
        "\n",
        "\n",
        "*   tried 1 hidden layer (Linear(784, 100) -> ReLU -> Dropout(0.1) -> Linear(100, 10) -> ReLU), 10 epochs, batch_size = 32, lr = 1e-3. Got HORRENDOUS results: at 10th epoch valid set had average loss 0.0235, accuracy 69%.\n",
        "*   Ok then I removed the ReLU from the last layer and also got rid of Dropout. Now I have Linear(784, 100) -> ReLU -> Linear(100, 10), 10 epochs, batch_size = 32, lr = 1e-3. Got much better results: test set avg. loss was .0027, accuracy = 97.420. Almost at 97.5!\n",
        "*   RIP okay then I did the same as above but with Linear(784, 100) -> ReLU -> Linear(100, 50) -> ReLU -> Linear(50, 10) and got a test set avg. loss of .0039 and accuracy = 96.8. Hmmm...\n",
        "*   Got over the 97.5 threshold! Doing Linear(784, 100) -> ReLU -> Linear(100, 50) -> ReLU -> Dropout(0.1) -> Linear(50, 30) -> ReLU -> Linear(30, 10), 10 epochs, batch_size = 32, lr = 2e-3 got a test set avg. loss of .0033 and accuracy = 97.76.\n",
        "*   Changing batch_size to 40 took test accuracy to 97.82.\n",
        "*   But then I ran the exact same code again and the accuracy slipped to 97.46. So I started experimenting again.\n",
        "*   I tried a shallower network based off of Piazza discussions--I put all 200 weights in one hidden layer. Then I ramped up the batch size to 100, increased the learning rate and set Dropout = 50. This didn't actually do a whole lot better--but it got me to exactly 97.5 and now I am not running this code again less the accuracy slips.\n",
        "\n",
        "\n",
        "\n"
      ]
    },
    {
      "cell_type": "markdown",
      "metadata": {
        "id": "HCR12-oHHFHI"
      },
      "source": [
        "# Example code for convolutional neural networks"
      ]
    },
    {
      "cell_type": "code",
      "metadata": {
        "id": "pRoFt50GHP_z",
        "colab": {
          "base_uri": "https://localhost:8080/"
        },
        "outputId": "c4fcdf9d-54dc-4cd3-cd13-6eb1c0ab314a"
      },
      "source": [
        "# sample model\n",
        "import torch.nn as nn\n",
        "\n",
        "model = nn.Sequential(\n",
        "    nn.Conv2d(1, 8, kernel_size=(8,8)),\n",
        "    nn.ReLU(),\n",
        "    nn.MaxPool2d(8),\n",
        "    nn.Dropout(p=0.5),\n",
        "    \n",
        "    nn.Flatten(),\n",
        "    nn.Linear(32, 64),\n",
        "    nn.ReLU(),\n",
        "    nn.Linear(64, 10)\n",
        "    # PyTorch implementation of cross-entropy loss includes softmax layer\n",
        ")\n",
        "\n",
        "# take a look at the shape of the weights for each layer\n",
        "for p in model.parameters():\n",
        "    print(p.data.shape)\n",
        "\n",
        "\n",
        "# our model has some # of parameters:\n",
        "count = 0\n",
        "for p in model.parameters():\n",
        "    n_params = np.prod(list(p.data.shape)).item()\n",
        "    count += n_params\n",
        "print(f'total params: {count}')"
      ],
      "execution_count": null,
      "outputs": [
        {
          "output_type": "stream",
          "name": "stdout",
          "text": [
            "torch.Size([8, 1, 8, 8])\n",
            "torch.Size([8])\n",
            "torch.Size([64, 32])\n",
            "torch.Size([64])\n",
            "torch.Size([10, 64])\n",
            "torch.Size([10])\n",
            "total params: 3282\n"
          ]
        }
      ]
    },
    {
      "cell_type": "code",
      "metadata": {
        "id": "aRoEpG1J4cRV",
        "colab": {
          "base_uri": "https://localhost:8080/",
          "height": 809
        },
        "outputId": "905a9371-e6c3-44bb-a056-b6089a67df01"
      },
      "source": [
        "trained_model, train_loss_history, valid_loss_history, valid_accuracy_history = run_training_loop(model)\n",
        "plt.plot(train_loss_history, label='train')\n",
        "plt.plot(valid_loss_history, label='valid')\n",
        "plt.legend()\n",
        "plt.show()\n",
        "\n",
        "test_performance(model)"
      ],
      "execution_count": null,
      "outputs": [
        {
          "output_type": "stream",
          "name": "stdout",
          "text": [
            "Train Epoch: 1  Average loss: 0.0360\n",
            "Valid set: Average loss: 0.0166, Accuracy: 10312/12000 (85.9333)\n",
            "\n",
            "Train Epoch: 2  Average loss: 0.0247\n",
            "Valid set: Average loss: 0.0125, Accuracy: 10725/12000 (89.3750)\n",
            "\n",
            "Train Epoch: 3  Average loss: 0.0225\n",
            "Valid set: Average loss: 0.0111, Accuracy: 10824/12000 (90.2000)\n",
            "\n",
            "Train Epoch: 4  Average loss: 0.0215\n",
            "Valid set: Average loss: 0.0103, Accuracy: 10898/12000 (90.8167)\n",
            "\n",
            "Train Epoch: 5  Average loss: 0.0206\n",
            "Valid set: Average loss: 0.0096, Accuracy: 10976/12000 (91.4667)\n",
            "\n",
            "Train Epoch: 6  Average loss: 0.0201\n",
            "Valid set: Average loss: 0.0098, Accuracy: 10977/12000 (91.4750)\n",
            "\n",
            "Train Epoch: 7  Average loss: 0.0196\n",
            "Valid set: Average loss: 0.0096, Accuracy: 10999/12000 (91.6583)\n",
            "\n",
            "Train Epoch: 8  Average loss: 0.0191\n",
            "Valid set: Average loss: 0.0098, Accuracy: 11025/12000 (91.8750)\n",
            "\n",
            "Train Epoch: 9  Average loss: 0.0188\n",
            "Valid set: Average loss: 0.0093, Accuracy: 11023/12000 (91.8583)\n",
            "\n",
            "Train Epoch: 10  Average loss: 0.0183\n",
            "Valid set: Average loss: 0.0091, Accuracy: 11023/12000 (91.8583)\n",
            "\n"
          ]
        },
        {
          "output_type": "display_data",
          "data": {
            "image/png": "[encoded data removed]",
            "text/plain": [
              "<Figure size 432x288 with 1 Axes>"
            ]
          },
          "metadata": {
            "needs_background": "light"
          }
        },
        {
          "output_type": "stream",
          "name": "stdout",
          "text": [
            "Test set: Average loss: 0.0084, Accuracy: 9235/10000 (92.3500)\n"
          ]
        },
        {
          "output_type": "execute_result",
          "data": {
            "text/plain": [
              "(0.00840579897016287, 0.9235)"
            ]
          },
          "metadata": {},
          "execution_count": 79
        }
      ]
    },
    {
      "cell_type": "markdown",
      "metadata": {
        "id": "OHI16r2D5DoJ"
      },
      "source": [
        "## Your code: 2 (c)"
      ]
    },
    {
      "cell_type": "code",
      "metadata": {
        "id": "ILTGTFff5Bh6",
        "colab": {
          "base_uri": "https://localhost:8080/"
        },
        "outputId": "2a7bc18a-f8f3-4ae5-bf2e-cc6589ba2bea"
      },
      "source": [
        "model = nn.Sequential(\n",
        "    # TODO\n",
        "    nn.Conv2d(1, 2, kernel_size=(3, 3)),\n",
        "    nn.BatchNorm2d(2),\n",
        "    nn.ReLU(),\n",
        "    nn.Conv2d(2, 4, (3, 3)),\n",
        "    nn.BatchNorm2d(4),\n",
        "    nn.ReLU(),\n",
        "    nn.Conv2d(4, 8, (5, 5)),\n",
        "    nn.BatchNorm2d(8),\n",
        "    nn.ReLU(),\n",
        "    nn.Conv2d(8, 16, (7, 7)),\n",
        "    nn.BatchNorm2d(16),\n",
        "    nn.ReLU(),\n",
        "    nn.MaxPool2d(3),\n",
        "    nn.Dropout(p=0.1),\n",
        "    \n",
        "    nn.Flatten(),\n",
        "    nn.Linear(256, 128),\n",
        "    nn.ReLU(),\n",
        "    nn.Linear(128, 10)\n",
        "    # PyTorch implementation of cross-entropy loss includes softmax layer\n",
        ")\n",
        "\n",
        "# make sure the # of parameters is under 50,000\n",
        "count = 0\n",
        "for p in model.parameters():\n",
        "    n_params = np.prod(list(p.data.shape)).item()\n",
        "    count += n_params\n",
        "print(f'total params: {count}')"
      ],
      "execution_count": null,
      "outputs": [
        {
          "output_type": "stream",
          "name": "stdout",
          "text": [
            "total params: 41438\n"
          ]
        }
      ]
    },
    {
      "cell_type": "code",
      "metadata": {
        "id": "j2WNXNZf5KKG",
        "colab": {
          "base_uri": "https://localhost:8080/",
          "height": 809
        },
        "outputId": "200dfad1-71a1-44cc-bdb7-1d1750a739a0"
      },
      "source": [
        "trained_model, train_loss_history, valid_loss_history, valid_accuracy_history = run_training_loop(model, 32, 10, .002)\n",
        "plt.plot(train_loss_history, label='train')\n",
        "plt.plot(valid_loss_history, label='valid')\n",
        "plt.legend()\n",
        "plt.show()\n",
        "\n",
        "test_performance(model)"
      ],
      "execution_count": null,
      "outputs": [
        {
          "output_type": "stream",
          "name": "stdout",
          "text": [
            "Train Epoch: 1  Average loss: 0.0022\n",
            "Valid set: Average loss: 0.0016, Accuracy: 11815/12000 (98.4583)\n",
            "\n",
            "Train Epoch: 2  Average loss: 0.0015\n",
            "Valid set: Average loss: 0.0016, Accuracy: 11838/12000 (98.6500)\n",
            "\n",
            "Train Epoch: 3  Average loss: 0.0013\n",
            "Valid set: Average loss: 0.0015, Accuracy: 11822/12000 (98.5167)\n",
            "\n",
            "Train Epoch: 4  Average loss: 0.0011\n",
            "Valid set: Average loss: 0.0016, Accuracy: 11830/12000 (98.5833)\n",
            "\n",
            "Train Epoch: 5  Average loss: 0.0010\n",
            "Valid set: Average loss: 0.0011, Accuracy: 11872/12000 (98.9333)\n",
            "\n",
            "Train Epoch: 6  Average loss: 0.0009\n",
            "Valid set: Average loss: 0.0012, Accuracy: 11876/12000 (98.9667)\n",
            "\n",
            "Train Epoch: 7  Average loss: 0.0008\n",
            "Valid set: Average loss: 0.0012, Accuracy: 11876/12000 (98.9667)\n",
            "\n",
            "Train Epoch: 8  Average loss: 0.0008\n",
            "Valid set: Average loss: 0.0014, Accuracy: 11853/12000 (98.7750)\n",
            "\n",
            "Train Epoch: 9  Average loss: 0.0006\n",
            "Valid set: Average loss: 0.0015, Accuracy: 11851/12000 (98.7583)\n",
            "\n",
            "Train Epoch: 10  Average loss: 0.0006\n",
            "Valid set: Average loss: 0.0013, Accuracy: 11867/12000 (98.8917)\n",
            "\n"
          ]
        },
        {
          "output_type": "display_data",
          "data": {
            "image/png": "[encoded data removed]",
            "text/plain": [
              "<Figure size 432x288 with 1 Axes>"
            ]
          },
          "metadata": {
            "needs_background": "light"
          }
        },
        {
          "output_type": "stream",
          "name": "stdout",
          "text": [
            "Test set: Average loss: 0.0010, Accuracy: 9906/10000 (99.0600)\n"
          ]
        },
        {
          "output_type": "execute_result",
          "data": {
            "text/plain": [
              "(0.0010033370873861714, 0.9906)"
            ]
          },
          "metadata": {},
          "execution_count": 116
        }
      ]
    },
    {
      "cell_type": "markdown",
      "metadata": {
        "id": "kpTQf-TuhOi8"
      },
      "source": [
        "Documentation of what I did along the way\n",
        "*   First I tried Conv2d(1, 8, 8) -> ReLU -> Conv2d(8, 16, 4) -> ReLU -> Conv2d(16, 32, 8) -> MaxPool2d(4) -> flatten -> Linear(128, 256) -> ReLU -> Linear(256, 10)\n",
        "*   Then I tried Conv2d(1, 2, 8) -> ReLU -> Conv2d(2, 4, 8) -> ReLU -> MaxPool2d(4) -> flatten -> Linear(36, 64) -> ReLU -> Linear(64, 10)\n",
        "*   Then I read up on some tips: start with smaller filters and less channels; use 3x3, 5x5 or 7x7 filters for convolutions and 2x2 or 3x3 for pooling, try padding, and keep adding layers till you overfit.\n",
        "*   Following this, I tried  Conv2d(1, 2, 3) -> ReLU -> Conv2d(2, 4, 3) -> ReLU -> Conv2d(4, 8, 5) -> ReLU -> Conv2d(8, 16, 7) -> ReLU -> MaxPool2d(3) -> flatten -> Linear(256, 128) -> ReLU -> Linear(128, 10).\n",
        "*   Then I added BatchNorm2d before every ReLU. Got test set accuracy of 99.06!!\n",
        "*   Citation: https://towardsdatascience.com/a-guide-to-an-efficient-way-to-build-neural-network-architectures-part-ii-hyper-parameter-42efca01e5d7"
      ]
    },
    {
      "cell_type": "markdown",
      "metadata": {
        "id": "oqgPrXHFy3H6"
      },
      "source": [
        "# Problem 3: Vision Transformer"
      ]
    },
    {
      "cell_type": "code",
      "metadata": {
        "id": "7FhfLUokzTbA",
        "colab": {
          "base_uri": "https://localhost:8080/"
        },
        "outputId": "48256b57-dc15-4580-f9a2-78cb7b94769b"
      },
      "source": [
        "!pip install einops\n",
        "\n",
        "import torch\n",
        "from torch import nn\n",
        "\n",
        "from einops import rearrange, repeat\n",
        "from einops.layers.torch import Rearrange"
      ],
      "execution_count": null,
      "outputs": [
        {
          "output_type": "stream",
          "name": "stdout",
          "text": [
            "Collecting einops\n",
            "  Downloading einops-0.3.2-py3-none-any.whl (25 kB)\n",
            "Installing collected packages: einops\n",
            "Successfully installed einops-0.3.2\n"
          ]
        }
      ]
    },
    {
      "cell_type": "markdown",
      "metadata": {
        "id": "m_AgjdU36P9O"
      },
      "source": [
        "## Your code: 3(a)\n",
        "\n",
        "Implement single-head attention."
      ]
    },
    {
      "cell_type": "code",
      "metadata": {
        "id": "vBgURvzV6Swk"
      },
      "source": [
        "class SingleHeadAttention(nn.Module):\n",
        "    def __init__(self, input_dim, inner_dim, dropout = 0.):\n",
        "        super().__init__()\n",
        "        # TODO\n",
        "        self.q = nn.Linear(input_dim, inner_dim)\n",
        "        self.k = nn.Linear(input_dim, inner_dim)\n",
        "        self.v = nn.Linear(input_dim, inner_dim)\n",
        "\n",
        "\n",
        "    def forward(self, x):\n",
        "        # TODO\n",
        "        query = self.q(x)\n",
        "        key = self.k(x)\n",
        "        value = self.k(x)\n",
        "\n",
        "        QKt = torch.matmul(query, torch.transpose(key, 1, 2))\n",
        "        scaled = QKt / (query.shape[2]**(0.5))\n",
        "        post_sm_attn_weights = scaled\n",
        "        print(post_sm_attn_weights)\n",
        "        m = nn.Softmax(dim=2) # softmax is applied in a weird way\n",
        "        out = torch.matmul(m(scaled), value)\n",
        "        return out"
      ],
      "execution_count": null,
      "outputs": []
    },
    {
      "cell_type": "markdown",
      "metadata": {
        "id": "XkEQ0JDE6Ttn"
      },
      "source": [
        "Test the following multihead attention implementation that relies on the single-head attention implementation above."
      ]
    },
    {
      "cell_type": "code",
      "metadata": {
        "id": "DRgiyIAl6X8k"
      },
      "source": [
        "class Attention(nn.Module):\n",
        "    def __init__(self, dim, heads = 8, dim_head = 64, dropout = 0.):\n",
        "        super().__init__()\n",
        "        self.attention_heads = nn.ModuleList([\n",
        "            SingleHeadAttention(dim, dim_head, dropout=dropout)\n",
        "            for _ in range(heads)\n",
        "        ])\n",
        "\n",
        "    def forward(self, x):\n",
        "        out = torch.cat([\n",
        "            head(x) for head in self.attention_heads\n",
        "        ], dim=-1)\n",
        "        return out"
      ],
      "execution_count": null,
      "outputs": []
    },
    {
      "cell_type": "markdown",
      "metadata": {
        "id": "Kq6c2s5lnGOK"
      },
      "source": [
        "Test code for multihead attention:"
      ]
    },
    {
      "cell_type": "code",
      "metadata": {
        "id": "zuq6jtg_nFew",
        "colab": {
          "base_uri": "https://localhost:8080/"
        },
        "outputId": "879f46ed-e236-4d1a-c185-b55c7c761843"
      },
      "source": [
        "T = 5\n",
        "input_dim = 32\n",
        "batch_size = 20\n",
        "\n",
        "heads = 8\n",
        "dim_head = 64\n",
        "\n",
        "test_input = torch.zeros((batch_size, T, input_dim))\n",
        "\n",
        "test_attention_module = Attention(input_dim)\n",
        "test_output = test_attention_module(test_input)\n",
        "\n",
        "print(test_output)\n",
        "assert test_output.size() == (batch_size, T, heads * dim_head), \"Shapes are incorrect\""
      ],
      "execution_count": null,
      "outputs": [
        {
          "output_type": "stream",
          "name": "stdout",
          "text": [
            "tensor([[[-0.0630,  0.0488, -0.1473,  ...,  0.0174,  0.1105,  0.0669],\n",
            "         [-0.0630,  0.0488, -0.1473,  ...,  0.0174,  0.1105,  0.0669],\n",
            "         [-0.0630,  0.0488, -0.1473,  ...,  0.0174,  0.1105,  0.0669],\n",
            "         [-0.0630,  0.0488, -0.1473,  ...,  0.0174,  0.1105,  0.0669],\n",
            "         [-0.0630,  0.0488, -0.1473,  ...,  0.0174,  0.1105,  0.0669]],\n",
            "\n",
            "        [[-0.0630,  0.0488, -0.1473,  ...,  0.0174,  0.1105,  0.0669],\n",
            "         [-0.0630,  0.0488, -0.1473,  ...,  0.0174,  0.1105,  0.0669],\n",
            "         [-0.0630,  0.0488, -0.1473,  ...,  0.0174,  0.1105,  0.0669],\n",
            "         [-0.0630,  0.0488, -0.1473,  ...,  0.0174,  0.1105,  0.0669],\n",
            "         [-0.0630,  0.0488, -0.1473,  ...,  0.0174,  0.1105,  0.0669]],\n",
            "\n",
            "        [[-0.0630,  0.0488, -0.1473,  ...,  0.0174,  0.1105,  0.0669],\n",
            "         [-0.0630,  0.0488, -0.1473,  ...,  0.0174,  0.1105,  0.0669],\n",
            "         [-0.0630,  0.0488, -0.1473,  ...,  0.0174,  0.1105,  0.0669],\n",
            "         [-0.0630,  0.0488, -0.1473,  ...,  0.0174,  0.1105,  0.0669],\n",
            "         [-0.0630,  0.0488, -0.1473,  ...,  0.0174,  0.1105,  0.0669]],\n",
            "\n",
            "        ...,\n",
            "\n",
            "        [[-0.0630,  0.0488, -0.1473,  ...,  0.0174,  0.1105,  0.0669],\n",
            "         [-0.0630,  0.0488, -0.1473,  ...,  0.0174,  0.1105,  0.0669],\n",
            "         [-0.0630,  0.0488, -0.1473,  ...,  0.0174,  0.1105,  0.0669],\n",
            "         [-0.0630,  0.0488, -0.1473,  ...,  0.0174,  0.1105,  0.0669],\n",
            "         [-0.0630,  0.0488, -0.1473,  ...,  0.0174,  0.1105,  0.0669]],\n",
            "\n",
            "        [[-0.0630,  0.0488, -0.1473,  ...,  0.0174,  0.1105,  0.0669],\n",
            "         [-0.0630,  0.0488, -0.1473,  ...,  0.0174,  0.1105,  0.0669],\n",
            "         [-0.0630,  0.0488, -0.1473,  ...,  0.0174,  0.1105,  0.0669],\n",
            "         [-0.0630,  0.0488, -0.1473,  ...,  0.0174,  0.1105,  0.0669],\n",
            "         [-0.0630,  0.0488, -0.1473,  ...,  0.0174,  0.1105,  0.0669]],\n",
            "\n",
            "        [[-0.0630,  0.0488, -0.1473,  ...,  0.0174,  0.1105,  0.0669],\n",
            "         [-0.0630,  0.0488, -0.1473,  ...,  0.0174,  0.1105,  0.0669],\n",
            "         [-0.0630,  0.0488, -0.1473,  ...,  0.0174,  0.1105,  0.0669],\n",
            "         [-0.0630,  0.0488, -0.1473,  ...,  0.0174,  0.1105,  0.0669],\n",
            "         [-0.0630,  0.0488, -0.1473,  ...,  0.0174,  0.1105,  0.0669]]],\n",
            "       grad_fn=<CatBackward0>)\n"
          ]
        }
      ]
    },
    {
      "cell_type": "code",
      "metadata": {
        "id": "Nw-ZSzT2PRux"
      },
      "source": [
        "test = torch.zeros((20, 5, 32))"
      ],
      "execution_count": null,
      "outputs": []
    },
    {
      "cell_type": "code",
      "metadata": {
        "colab": {
          "base_uri": "https://localhost:8080/"
        },
        "id": "28OdxmwYPhgy",
        "outputId": "7b847ce9-3d41-4a95-9ee6-f34cc8039b3b"
      },
      "source": [
        "test.shape[1]"
      ],
      "execution_count": null,
      "outputs": [
        {
          "output_type": "execute_result",
          "data": {
            "text/plain": [
              "5"
            ]
          },
          "metadata": {},
          "execution_count": 67
        }
      ]
    },
    {
      "cell_type": "markdown",
      "metadata": {
        "id": "h9pbMlS46cgF"
      },
      "source": [
        "## Your code: 3 (b)"
      ]
    },
    {
      "cell_type": "code",
      "metadata": {
        "id": "zTJOcjl66e2C"
      },
      "source": [
        "class ViTLayer(nn.Module):\n",
        "    def __init__(self, dim, heads, dim_head, mlp_dim, dropout = 0.):\n",
        "        super().__init__()\n",
        "        self.heads = heads\n",
        "        self.dim_head = dim_head\n",
        "        self.dim = dim\n",
        "        self.attn = nn.Sequential(\n",
        "            # TODO\n",
        "            nn.LayerNorm(dim),\n",
        "            Attention(dim, heads, dim_head, dropout),\n",
        "            nn.Linear(self.heads * self.dim_head, self.dim)\n",
        "        )\n",
        "        self.feedforward = nn.Sequential(\n",
        "            # TODO\n",
        "            nn.LayerNorm(dim),\n",
        "            nn.Linear(dim, mlp_dim),\n",
        "            nn.ReLU(),\n",
        "            #nn.Dropout(dropout),\n",
        "            nn.Linear(mlp_dim, dim),\n",
        "            nn.Dropout(dropout)\n",
        "        )\n",
        "\n",
        "    def forward(self, x):\n",
        "        # TODO\n",
        "        attn = self.attn(x)\n",
        "        residual = x + attn\n",
        "        out = self.feedforward(residual)\n",
        "        return out + residual"
      ],
      "execution_count": null,
      "outputs": []
    },
    {
      "cell_type": "markdown",
      "metadata": {
        "id": "B18OaSIn6iT8"
      },
      "source": [
        "## ViT code for 3 (c)"
      ]
    },
    {
      "cell_type": "code",
      "metadata": {
        "id": "jwC4oDBty3tw"
      },
      "source": [
        "class ViT(nn.Module):\n",
        "    def __init__(self, patch_size=7, dim=64, depth=6, heads=8, mlp_dim=128, \n",
        "                 dim_head = 64,\n",
        "                 dropout = 0., emb_dropout = 0.):\n",
        "        super().__init__()\n",
        "\n",
        "        image_height, image_width = 28, 28\n",
        "        num_classes = 10\n",
        "        channels = 1\n",
        "\n",
        "        patch_height = patch_size\n",
        "        patch_width = patch_size\n",
        "\n",
        "        assert image_height % patch_height == 0 and image_width % patch_width == 0, (\n",
        "            'Image dimensions must be divisible by the patch size.')\n",
        "\n",
        "        num_patches = (image_height // patch_height) * (image_width // patch_width)\n",
        "        patch_dim = channels * patch_height * patch_width\n",
        "\n",
        "        self.to_patch_embedding = nn.Sequential(\n",
        "            Rearrange('b c (h p1) (w p2) -> b (h w) (p1 p2 c)', p1 = patch_height, p2 = patch_width),\n",
        "            nn.Linear(patch_dim, dim),\n",
        "        )\n",
        "\n",
        "        self.pos_embedding = nn.Parameter(torch.randn(1, num_patches + 1, dim))\n",
        "        self.cls_token = nn.Parameter(torch.randn(1, 1, dim))\n",
        "        self.emb_dropout = nn.Dropout(emb_dropout)\n",
        "\n",
        "        self.transformer = nn.Sequential(*nn.ModuleList([\n",
        "            ViTLayer(dim, heads, dim_head, mlp_dim, dropout)\n",
        "            for _ in range(depth)                       \n",
        "        ]))\n",
        "\n",
        "        self.mlp_head = nn.Sequential(\n",
        "            nn.LayerNorm(dim),\n",
        "            nn.Linear(dim, num_classes)\n",
        "        )\n",
        "\n",
        "    def forward(self, img):\n",
        "        x = self.to_patch_embedding(img)\n",
        "        b, n, _ = x.shape\n",
        "\n",
        "        cls_tokens = repeat(self.cls_token, '() n d -> b n d', b = b)\n",
        "        x = torch.cat((cls_tokens, x), dim=1)\n",
        "        x += self.pos_embedding[:, :(n + 1)]\n",
        "        x = self.emb_dropout(x)\n",
        "\n",
        "        x = self.transformer(x)\n",
        "\n",
        "        x = x[:, 0]\n",
        "        return self.mlp_head(x)"
      ],
      "execution_count": null,
      "outputs": []
    },
    {
      "cell_type": "code",
      "metadata": {
        "id": "IGD2JfImzOx4"
      },
      "source": [
        "model = ViT(patch_size=7, dim=64, depth=6, heads=8, mlp_dim=128)"
      ],
      "execution_count": null,
      "outputs": []
    },
    {
      "cell_type": "code",
      "metadata": {
        "id": "jPqp5lxTzPA0",
        "colab": {
          "base_uri": "https://localhost:8080/",
          "height": 809
        },
        "outputId": "7d9fd623-074c-4689-a9e8-6da4ed022b58"
      },
      "source": [
        "trained_model, train_loss_history, valid_loss_history, valid_accuracy_history = run_training_loop(model)\n",
        "plt.plot(train_loss_history, label='train')\n",
        "plt.plot(valid_loss_history, label='valid')\n",
        "plt.legend()\n",
        "plt.show()\n",
        "\n",
        "test_performance(model)"
      ],
      "execution_count": null,
      "outputs": [
        {
          "output_type": "stream",
          "name": "stdout",
          "text": [
            "Train Epoch: 1  Average loss: 0.0117\n",
            "Valid set: Average loss: 0.0055, Accuracy: 11389/12000 (94.9083)\n",
            "\n",
            "Train Epoch: 2  Average loss: 0.0047\n",
            "Valid set: Average loss: 0.0045, Accuracy: 11480/12000 (95.6667)\n",
            "\n",
            "Train Epoch: 3  Average loss: 0.0036\n",
            "Valid set: Average loss: 0.0035, Accuracy: 11594/12000 (96.6167)\n",
            "\n",
            "Train Epoch: 4  Average loss: 0.0032\n",
            "Valid set: Average loss: 0.0033, Accuracy: 11603/12000 (96.6917)\n",
            "\n",
            "Train Epoch: 5  Average loss: 0.0028\n",
            "Valid set: Average loss: 0.0034, Accuracy: 11607/12000 (96.7250)\n",
            "\n",
            "Train Epoch: 6  Average loss: 0.0025\n",
            "Valid set: Average loss: 0.0030, Accuracy: 11645/12000 (97.0417)\n",
            "\n",
            "Train Epoch: 7  Average loss: 0.0022\n",
            "Valid set: Average loss: 0.0027, Accuracy: 11692/12000 (97.4333)\n",
            "\n",
            "Train Epoch: 8  Average loss: 0.0020\n",
            "Valid set: Average loss: 0.0029, Accuracy: 11671/12000 (97.2583)\n",
            "\n",
            "Train Epoch: 9  Average loss: 0.0019\n",
            "Valid set: Average loss: 0.0025, Accuracy: 11714/12000 (97.6167)\n",
            "\n",
            "Train Epoch: 10  Average loss: 0.0017\n",
            "Valid set: Average loss: 0.0028, Accuracy: 11694/12000 (97.4500)\n",
            "\n"
          ]
        },
        {
          "output_type": "display_data",
          "data": {
            "image/png": "[encoded data removed]",
            "text/plain": [
              "<Figure size 432x288 with 1 Axes>"
            ]
          },
          "metadata": {
            "needs_background": "light"
          }
        },
        {
          "output_type": "stream",
          "name": "stdout",
          "text": [
            "Test set: Average loss: 0.0023, Accuracy: 9771/10000 (97.7100)\n"
          ]
        },
        {
          "output_type": "execute_result",
          "data": {
            "text/plain": [
              "(0.002304830387653783, 0.9771)"
            ]
          },
          "metadata": {},
          "execution_count": 12
        }
      ]
    },
    {
      "cell_type": "markdown",
      "metadata": {
        "id": "J2CPDDokdED-"
      },
      "source": [
        "Test accuracy is 97.7100 (might have gotten cut off when I printed to PDF)."
      ]
    },
    {
      "cell_type": "code",
      "metadata": {
        "id": "eRvTJvZfzZ8H",
        "colab": {
          "base_uri": "https://localhost:8080/",
          "height": 299
        },
        "outputId": "1fb002e5-719f-4e30-c32d-c3495ee2b993"
      },
      "source": [
        "print(valid_dataset[0][1])\n",
        "plt.imshow(valid_dataset[0][0][0].numpy(), cmap='gray')"
      ],
      "execution_count": null,
      "outputs": [
        {
          "output_type": "stream",
          "name": "stdout",
          "text": [
            "2\n"
          ]
        },
        {
          "output_type": "execute_result",
          "data": {
            "text/plain": [
              "<matplotlib.image.AxesImage at 0x7f8c7ef97050>"
            ]
          },
          "metadata": {},
          "execution_count": 16
        },
        {
          "output_type": "display_data",
          "data": {
            "image/png": "[encoded data removed]",
            "text/plain": [
              "<Figure size 432x288 with 1 Axes>"
            ]
          },
          "metadata": {
            "needs_background": "light"
          }
        }
      ]
    },
    {
      "cell_type": "code",
      "metadata": {
        "colab": {
          "base_uri": "https://localhost:8080/"
        },
        "id": "9joH8fhcBMgW",
        "outputId": "12608fd9-29dc-42a6-f15a-8aedea58f56c"
      },
      "source": [
        "len(trained_model.transformer)"
      ],
      "execution_count": null,
      "outputs": [
        {
          "output_type": "execute_result",
          "data": {
            "text/plain": [
              "6"
            ]
          },
          "metadata": {},
          "execution_count": 31
        }
      ]
    },
    {
      "cell_type": "code",
      "metadata": {
        "colab": {
          "base_uri": "https://localhost:8080/"
        },
        "id": "fnhivNCL5baC",
        "outputId": "4d6d1a93-aae7-4662-b62b-73e2867f6b47"
      },
      "source": [
        "x = valid_dataset[0][0][0]\n",
        "#type(x), x.shape\n",
        "len(valid_dataset)"
      ],
      "execution_count": null,
      "outputs": [
        {
          "output_type": "execute_result",
          "data": {
            "text/plain": [
              "12000"
            ]
          },
          "metadata": {},
          "execution_count": 31
        }
      ]
    },
    {
      "cell_type": "code",
      "metadata": {
        "colab": {
          "base_uri": "https://localhost:8080/"
        },
        "id": "AFe6WTR_MWW1",
        "outputId": "0c2865c4-ccc5-4c2c-ae80-1993156b5276"
      },
      "source": [
        "test_loader = torch.utils.data.DataLoader(valid_dataset, batch_size=1, shuffle=False) \n",
        "print(len(test_loader)) # length 12000, want only the 1st element\n",
        "for data, target in test_loader:\n",
        "  print(type(data), data.shape)\n",
        "  #plt.imshow(data[0][0].numpy(), cmap='gray')\n",
        "  #output = trained_model(data)\n",
        "  output = model(data)\n",
        "  break\n",
        "# Turning off automatic differentiation\n",
        "#with torch.no_grad():\n",
        " #   for data, target in test_loader:\n",
        "  #      output = model(data)"
      ],
      "execution_count": null,
      "outputs": [
        {
          "output_type": "stream",
          "name": "stdout",
          "text": [
            "12000\n",
            "<class 'torch.Tensor'> torch.Size([1, 1, 28, 28])\n"
          ]
        }
      ]
    },
    {
      "cell_type": "code",
      "metadata": {
        "colab": {
          "base_uri": "https://localhost:8080/"
        },
        "id": "u1kkQEcIRLOm",
        "outputId": "3ad6575f-09f1-4113-b193-2cd30c9f1b09"
      },
      "source": [
        "output.shape"
      ],
      "execution_count": null,
      "outputs": [
        {
          "output_type": "execute_result",
          "data": {
            "text/plain": [
              "torch.Size([1, 10])"
            ]
          },
          "metadata": {},
          "execution_count": 59
        }
      ]
    },
    {
      "cell_type": "code",
      "metadata": {
        "colab": {
          "base_uri": "https://localhost:8080/"
        },
        "id": "C4jSNNLFRMFS",
        "outputId": "14d13f30-4136-43fb-bd9d-d6fd07ee1464"
      },
      "source": [
        "output"
      ],
      "execution_count": null,
      "outputs": [
        {
          "output_type": "execute_result",
          "data": {
            "text/plain": [
              "tensor([[-2.5836, -0.4189,  9.5562,  1.4441, -3.4849,  0.7073, -3.4389,  3.5094,\n",
              "         -4.5024, -2.7769]], grad_fn=<AddmmBackward0>)"
            ]
          },
          "metadata": {},
          "execution_count": 60
        }
      ]
    },
    {
      "cell_type": "code",
      "metadata": {
        "id": "eW9g8sefNx_6"
      },
      "source": [
        ""
      ],
      "execution_count": null,
      "outputs": []
    }
  ]
}