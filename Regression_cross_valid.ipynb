{
 "cells": [
  {
   "cell_type": "markdown",
   "id": "b06e8731",
   "metadata": {},
   "source": [
    "# Homework 1"
   ]
  },
  {
   "cell_type": "markdown",
   "id": "1fb3684f",
   "metadata": {},
   "source": [
    "## OLS, Ridge Regression and Cross-Validation"
   ]
  },
  {
   "cell_type": "markdown",
   "id": "517077c4",
   "metadata": {},
   "source": [
    "Blair is a mage testing how long they can fly a collection of giant peaches. They have $n$ training\n",
    "peaches – with masses given by $x_1, x_2, . . . x_n$ – and flies these peaches once to collect training data.\n",
    "The experimental flight time of peach $i$ is given by $y_i$. They believe that the flight time is well\n",
    "approximated by a polynomial function of the mass \\\n",
    "$y_i ≈ w_0 + w_1 x_i + w_2 x_i^2 + \\dots + w_Dx_i^D$ \\\n",
    "where their goal is to fit a polynomial of degree D to this data. "
   ]
  },
  {
   "cell_type": "code",
   "execution_count": 1,
   "id": "f280c993",
   "metadata": {},
   "outputs": [],
   "source": [
    "import numpy as np\n",
    "import matplotlib.pyplot as plt\n",
    "import scipy.io\n",
    "from hw1_prob5 import *"
   ]
  },
  {
   "cell_type": "code",
   "execution_count": 2,
   "id": "dde8fbb8",
   "metadata": {},
   "outputs": [],
   "source": [
    "data = scipy.io.loadmat(\"1D_poly.mat\")"
   ]
  },
  {
   "cell_type": "code",
   "execution_count": 3,
   "id": "fe4d587f",
   "metadata": {},
   "outputs": [],
   "source": [
    "x = data['x_train'][0]\n",
    "y = data['y_train'].T[0]"
   ]
  },
  {
   "cell_type": "markdown",
   "id": "25bba3fd",
   "metadata": {},
   "source": [
    "## part a"
   ]
  },
  {
   "cell_type": "markdown",
   "id": "60103e65",
   "metadata": {},
   "source": [
    "QUESTION: Show how Blair’s problem can be formulated as a linear regression problem."
   ]
  },
  {
   "cell_type": "markdown",
   "id": "e37f4928",
   "metadata": {},
   "source": [
    "The data look like $\\textbf{y} = \\begin{bmatrix} y_1 \\\\ y_2 \\\\ \\vdots \\\\ y_n \\end{bmatrix}, \\textbf{x} = \\begin{bmatrix} x_1 \\\\ x_2 \\\\ \\vdots \\\\ x_n \\end{bmatrix}$.\n",
    "\n",
    "The problem can be formulated as:\n",
    "$\\begin{bmatrix} y_1 \\\\ y_2 \\\\ \\vdots \\\\ y_n \\end{bmatrix} = \\begin{bmatrix} 1 & x_1 & x_1^2 & \\cdots & x_1^D \\\\\n",
    "                                                                         \\vdots & \\vdots & \\vdots & \\ddots & \\vdots \\\\\n",
    "                                                                             1 & x_n & x_n^2 & \\cdots & x_n^D \\end{bmatrix} \\begin{bmatrix} w_1 \\\\ w_2 \\\\ \\vdots \\\\ w_D \\end{bmatrix}$, which is equivalent to $\\textbf{y} = X\\textbf{w}$. This is a linear regression problem."
   ]
  },
  {
   "cell_type": "markdown",
   "id": "9bfa475b",
   "metadata": {},
   "source": [
    "## part b"
   ]
  },
  {
   "cell_type": "markdown",
   "id": "42a78e46",
   "metadata": {},
   "source": [
    "QUESTION: You are given data of the masses $\\{x_i\\}_{i=1}^n$ and flying times $\\{y_i\\}_{i=1}^n$ in the “x train” and “y train” keys of the file 1D poly.mat with the masses centered and normalized to lie in the range [−1, 1]. Write code to perform the least squares fit. You may NOT use numpy.linalg.lstsq, but you can use other linear algebra functions, such as numpy.linalg.solve. Letting $f_D$ denote the fitted polynomial, plot the average training error $R(D) = \\frac{1}{n} \\sum_{i=1}^n (y_i − f_D(x_i))^2$ against $D$ in the range $D \\in \\{0, 1, 2, 3, . . . , n − 1\\}$."
   ]
  },
  {
   "cell_type": "code",
   "execution_count": 4,
   "id": "f4fc098e",
   "metadata": {},
   "outputs": [],
   "source": [
    "# part b (1/2)\n",
    "\n",
    "def least_squares(X, D):\n",
    "    \n",
    "    return np.linalg.solve(X.T @ X, (X.T @ y).T) \n",
    "    # X is 20xD, y is 20x1 so X.T @ X is DxD and X.T @ y is 1xD (bc of np) so need to do .T\n",
    "    \n",
    "def least_squares_error(x, y, D):\n",
    "    X = np.matrix([x**d for d in range(0, D+1)]).T\n",
    "    Rs = []\n",
    "    rolling_sum = 0\n",
    "    for i in range(len(y)):\n",
    "        w = least_squares(X, D)\n",
    "        fitted_i = X[i].dot(w)\n",
    "        rolling_sum += (y[i] - fitted_i)**2\n",
    "        Rs.append(y[i] - fitted_i)\n",
    "    return (np.linalg.norm(Rs) ** 2) / len(x)\n",
    "    #return rolling_sum/len(x)"
   ]
  },
  {
   "cell_type": "code",
   "execution_count": 5,
   "id": "4c57d44f",
   "metadata": {},
   "outputs": [
    {
     "data": {
      "text/plain": [
       "Text(0.5, 1.0, 'average training error R(D) against D')"
      ]
     },
     "execution_count": 5,
     "metadata": {},
     "output_type": "execute_result"
    },
    {
     "data": {
      "image/png": "[encoded data removed]",
      "text/plain": [
       "<Figure size 432x288 with 1 Axes>"
      ]
     },
     "metadata": {
      "needs_background": "light"
     },
     "output_type": "display_data"
    }
   ],
   "source": [
    "# part b (2/2)\n",
    "\n",
    "fig = plt.figure()\n",
    "x_values = [d for d in range(len(x))]\n",
    "y_values = [least_squares_error(x, y, d) for d in range(len(x))]\n",
    "    \n",
    "plt.scatter(x_values, y_values)\n",
    "plt.xlabel('D')\n",
    "plt.ylabel('R(D)')\n",
    "plt.title('average training error R(D) against D')"
   ]
  },
  {
   "cell_type": "markdown",
   "id": "7beb7826",
   "metadata": {},
   "source": [
    "## part c"
   ]
  },
  {
   "cell_type": "markdown",
   "id": "5958df24",
   "metadata": {},
   "source": [
    "QUESTION: How does the average training error behave as a function of D, and why? What happens if you try to fit a polynomial of degree n with a standard matrix inversion method?"
   ]
  },
  {
   "cell_type": "markdown",
   "id": "76f7886e",
   "metadata": {},
   "source": [
    "The average training error decreases as a function of D. This makes sense, because as D increases, essentially we are just overfitting the training data, so the error would decrease. If you try to fit a polynomial of degree n with the standard matrix inversion method, you'll get a matrix that has n+1 columns, i.e. it does not have full rank. So, it won't be invertible and we might have to use the pseudo-inverse instead.\n"
   ]
  },
  {
   "cell_type": "markdown",
   "id": "9be2f05a",
   "metadata": {},
   "source": [
    "## part d"
   ]
  },
  {
   "cell_type": "markdown",
   "id": "a96bd9d9",
   "metadata": {},
   "source": [
    "QUESTION: Blair has taken CS189 so they decide that they need to run another experiment before deciding that their prediction is true. They run another fresh experiment of flight times using the same peaches, to obtain the data with key “y fresh” in 1D poly.mat. Denoting the fresh flight time of peach $i$ by $\\tilde{y}_i$, plot the average error $\\tilde{R}(D) = \\frac{1}{n} \\sum_{i=1}^n (\\tilde{y}_i − f_D(x_i))^2$ for the same values of $D$ as in part (b) using the polynomial approximations $f_D$ also from the previous part. How does this plot differ from the plot in (b) and why?"
   ]
  },
  {
   "cell_type": "code",
   "execution_count": 6,
   "id": "5053c946",
   "metadata": {},
   "outputs": [],
   "source": [
    "y_fresh = data[\"y_fresh\"].T[0]"
   ]
  },
  {
   "cell_type": "code",
   "execution_count": 7,
   "id": "0644275e",
   "metadata": {},
   "outputs": [
    {
     "data": {
      "text/plain": [
       "Text(0.5, 1.0, 'average training error R(D) for y_fresh against D')"
      ]
     },
     "execution_count": 7,
     "metadata": {},
     "output_type": "execute_result"
    },
    {
     "data": {
      "image/png": "[encoded data removed]",
      "text/plain": [
       "<Figure size 432x288 with 1 Axes>"
      ]
     },
     "metadata": {
      "needs_background": "light"
     },
     "output_type": "display_data"
    }
   ],
   "source": [
    "fig = plt.figure()\n",
    "x_values = [d for d in range(len(x))]\n",
    "y_fresh_values = [least_squares_error(x, y_fresh, d) for d in range(len(x))]\n",
    "    \n",
    "plt.scatter(x_values, y_fresh_values)\n",
    "plt.xlabel('D')\n",
    "plt.ylabel('R(D) for y_fresh')\n",
    "plt.title('average training error R(D) for y_fresh against D')"
   ]
  },
  {
   "cell_type": "code",
   "execution_count": 8,
   "id": "e8dd1309",
   "metadata": {},
   "outputs": [
    {
     "data": {
      "text/plain": [
       "Text(0.5, 1.0, 'Comparing error for y_train (blue) vs. y_fresh (orange)')"
      ]
     },
     "execution_count": 8,
     "metadata": {},
     "output_type": "execute_result"
    },
    {
     "data": {
      "image/png": "[encoded data removed]",
      "text/plain": [
       "<Figure size 432x288 with 1 Axes>"
      ]
     },
     "metadata": {
      "needs_background": "light"
     },
     "output_type": "display_data"
    }
   ],
   "source": [
    "fig = plt.figure()\n",
    "\n",
    "plt.scatter(x_values, y_values)\n",
    "plt.scatter(x_values, y_fresh_values)\n",
    "plt.title('Comparing error for y_train (blue) vs. y_fresh (orange)')"
   ]
  },
  {
   "cell_type": "markdown",
   "id": "cae62692",
   "metadata": {},
   "source": [
    "The error for y_fresh increases relative to that of y_train for larger D. This makes sense, because for large D, we'd be overfitting y_train, and hence the model wouldn't fit y_fresh as well, whereas it would be expected to work better for lower D since we aren't overfitting in that case."
   ]
  },
  {
   "cell_type": "markdown",
   "id": "396e321f",
   "metadata": {},
   "source": [
    "## part e"
   ]
  },
  {
   "cell_type": "markdown",
   "id": "0c96f8ef",
   "metadata": {},
   "source": [
    "QUESTION: How do you propose using the two plots from parts (b) and (d) to “select” the right polynomial model for Blair?"
   ]
  },
  {
   "cell_type": "markdown",
   "id": "be9147d3",
   "metadata": {},
   "source": [
    "Since higher values of D result in greater testing error, Blair should use lower degree polynomials. The test errors look like they increase after degrees ~10-11, so it would be better to use polynomials of degree less than that. We also wouldn't want to use a D too small--values between 0 and 3 have quite high error values. So, a polynomial with degree between 5 and 10 would be optimal for Blair."
   ]
  },
  {
   "cell_type": "markdown",
   "id": "9536cc90",
   "metadata": {},
   "source": [
    "## part f"
   ]
  },
  {
   "cell_type": "markdown",
   "id": "bfa67dd8",
   "metadata": {},
   "source": [
    "QUESTION: Blair has a new hypothesis – the flying time is actually a function of the mass, smoothness, size, and sweetness of the peach, and some multivariate polynomial function of all of these parameters. A $D$-multivariate polynomial function looks like \\\n",
    "$f_D(\\textbf{x}) = \\sum_j \\alpha_j \\prod_i x_i^{p_{ji}}$, \\\n",
    "where $\\forall j: \\sum_i p_{ji} \\leq D$. Here $\\alpha_j$ is the scale constant for $j$th term and $p_{ji}$ is the exponent of $x_i$ in the $j$th term. The data in polynomial regression samples.mat (100000 × 5) with columns\n",
    "corresponding to the 5 attributes of the peach. Use 4-fold cross-validation to decide which of $D \\in \\{0, 1, 2, 3, 4, 5\\}$ is the best fit for the data provided. Specifically, the best fit is defined as the choice of parameters that has the lowest mean squared error averaged across the four validation folds. For this part, compute the polynomial coefficients via ridge regression with penalty $\\lambda = 0.1$, instead of ordinary least squares. You may not use numpy.linalg.lstsq, but you can use other linear algebra functions, such as numpy.linalg.solve. You should implement the 4-fold cross-validation using only numpy (i.e. do not use sci-kit learn or another machine learning library). The assemble feature function provided in hw1 prob5.py can be used to construct the data matrix representing the D multivariate polynomial basis functions from the 5 raw features."
   ]
  },
  {
   "cell_type": "code",
   "execution_count": 9,
   "id": "34982fce",
   "metadata": {},
   "outputs": [],
   "source": [
    "poly_data = scipy.io.loadmat(\"polynomial_regression_samples.mat\")"
   ]
  },
  {
   "cell_type": "code",
   "execution_count": 10,
   "id": "b354fc51",
   "metadata": {},
   "outputs": [],
   "source": [
    "x = poly_data['x'] # 100000 x 5\n",
    "y = poly_data['y'] # 100000 x 1"
   ]
  },
  {
   "cell_type": "code",
   "execution_count": 11,
   "id": "57fd0575",
   "metadata": {},
   "outputs": [],
   "source": [
    "def fit_ridge_regression(X, y, nu): # nu = 0.1 for part f\n",
    "    return np.linalg.solve(X.T @ X + nu * np.identity(len(X.T)), X.T @ y)"
   ]
  },
  {
   "cell_type": "code",
   "execution_count": 12,
   "id": "27e9c9f4",
   "metadata": {},
   "outputs": [],
   "source": [
    "k = 4 # doing k-fold cross validation"
   ]
  },
  {
   "cell_type": "code",
   "execution_count": 13,
   "id": "8b32b253",
   "metadata": {},
   "outputs": [],
   "source": [
    "len_folds = int(len(x) / k) # len_folds = 25000\n",
    "x_folds = [x[len_folds*i:len_folds*(i+1)] for i in range(k)] # e.g. x_fold[1] = xnew[25000:50000]\n",
    "y_folds = [y[len_folds*i:len_folds*(i+1)] for i in range(k)] # e.g. y_fold[1] = ynew[25000:50000]"
   ]
  },
  {
   "cell_type": "code",
   "execution_count": 35,
   "id": "b294e1e9",
   "metadata": {},
   "outputs": [],
   "source": [
    "# returns the average MSE for a k-fold cross-validation\n",
    "def mse_for_cross_validation(x_folds, y_folds, D, k, nu):\n",
    "\n",
    "    running_R_test = 0 # R is the average of the four MSE's, each obtained by using one fold as the test set\n",
    "    running_R_training = 0 # for testing the goodness of fit on the training set\n",
    "    for i in range(k): # using each of the four folds in turn as the training set\n",
    "        x_training = [x_folds[j] for j in range(k) if j != i] # if i = 2, want the 0, 1 and 3rd elements of x_folds\n",
    "        x_training = np.vstack(x_training) # combine the three folds into one data structure (i.e. matrix)\n",
    "        x_training = assemble_feature(x_training, D) # create the design matrix for the three folds\n",
    "\n",
    "        y_training = [y_folds[j] for j in range(k) if j != i] # same as for x\n",
    "        y_training = np.vstack(y_training)\n",
    "\n",
    "        fit_i = fit_ridge_regression(x_training, y_training, nu) # w\n",
    "\n",
    "        x_test = assemble_feature(x_folds[i], D) ## DO THIS PART??\n",
    "        y_test = y_folds[i]\n",
    "\n",
    "        rolling_mse_sum_test = 0\n",
    "        for index in range(len(y_test)): # calculate MSE\n",
    "            rolling_mse_sum_test += (y_test[index] - x_test[index].dot(fit_i))**2\n",
    "        MSE_i_test = rolling_mse_sum_test / len(y_test)\n",
    "        running_R_test += MSE_i_test\n",
    "        \n",
    "        rolling_mse_sum_training = 0\n",
    "        for index in range(len(y_training)): # calculate MSE\n",
    "            rolling_mse_sum_training += (y_training[index] - x_training[index].dot(fit_i))**2\n",
    "        MSE_i_training = rolling_mse_sum_training / len(y_training)\n",
    "        running_R_training += MSE_i_training\n",
    "\n",
    "    avg_R_test = running_R_test / k\n",
    "    avg_R_training = running_R_training / k\n",
    "    return [avg_R_test, avg_R_training]"
   ]
  },
  {
   "cell_type": "code",
   "execution_count": 21,
   "id": "0a5fe3b7",
   "metadata": {},
   "outputs": [],
   "source": [
    "nu = 0.1 # penalty, specified in question \n",
    "\n",
    "list_of_Rs = []\n",
    "for D in range(6):\n",
    "    list_of_Rs.append(mse_for_cross_validation(x_folds, y_folds, D, k, nu)[0])"
   ]
  },
  {
   "cell_type": "code",
   "execution_count": 22,
   "id": "1eca8f97",
   "metadata": {},
   "outputs": [
    {
     "data": {
      "text/plain": [
       "4"
      ]
     },
     "execution_count": 22,
     "metadata": {},
     "output_type": "execute_result"
    }
   ],
   "source": [
    "list_of_Rs.index(min(list_of_Rs))"
   ]
  },
  {
   "cell_type": "markdown",
   "id": "2269023d",
   "metadata": {},
   "source": [
    "The best D is D=4"
   ]
  },
  {
   "cell_type": "markdown",
   "id": "3e6dcfb5",
   "metadata": {},
   "source": [
    "## part g"
   ]
  },
  {
   "cell_type": "markdown",
   "id": "23b3f158",
   "metadata": {},
   "source": [
    "QUESTION: Now redo the previous part, but use 4-fold cross-validation on all combinations of $D \\in \\{1, 2, 3, 4, 5\\}$\n",
    "and $\\lambda \\in \\{0.05, 0.1, 0.15, 0.2\\}$ - this is referred to as a grid search. Find the best $D$ and $\\lambda$ that best explains the data using ridge regression. Print the average training/validation error per sample for all $D$ and $\\lambda$."
   ]
  },
  {
   "cell_type": "code",
   "execution_count": 30,
   "id": "dc4dc15f",
   "metadata": {},
   "outputs": [
    {
     "name": "stdout",
     "output_type": "stream",
     "text": [
      "D = 1; lambda = 0.05; avg. validation error: [0.05857469]; avg. training error: [0.05856762]\n",
      "D = 1; lambda = 0.1; avg. validation error: [0.05857469]; avg. training error: [0.05856762]\n",
      "D = 1; lambda = 0.15; avg. validation error: [0.05857469]; avg. training error: [0.05856762]\n",
      "D = 1; lambda = 0.2; avg. validation error: [0.05857469]; avg. training error: [0.05856763]\n",
      "D = 2; lambda = 0.05; avg. validation error: [0.05852113]; avg. training error: [0.05848948]\n",
      "D = 2; lambda = 0.1; avg. validation error: [0.05852039]; avg. training error: [0.0584902]\n",
      "D = 2; lambda = 0.15; avg. validation error: [0.05852011]; avg. training error: [0.05849122]\n",
      "D = 2; lambda = 0.2; avg. validation error: [0.05852016]; avg. training error: [0.05849243]\n",
      "D = 3; lambda = 0.05; avg. validation error: [0.05852103]; avg. training error: [0.05848703]\n",
      "D = 3; lambda = 0.1; avg. validation error: [0.05852032]; avg. training error: [0.05848893]\n",
      "D = 3; lambda = 0.15; avg. validation error: [0.05852006]; avg. training error: [0.05849036]\n",
      "D = 3; lambda = 0.2; avg. validation error: [0.05852013]; avg. training error: [0.05849179]\n",
      "D = 4; lambda = 0.05; avg. validation error: [0.05852102]; avg. training error: [0.05848701]\n",
      "D = 4; lambda = 0.1; avg. validation error: [0.05852032]; avg. training error: [0.05848892]\n",
      "D = 4; lambda = 0.15; avg. validation error: [0.05852006]; avg. training error: [0.05849036]\n",
      "D = 4; lambda = 0.2; avg. validation error: [0.05852012]; avg. training error: [0.05849178]\n",
      "D = 5; lambda = 0.05; avg. validation error: [0.05852102]; avg. training error: [0.05848701]\n",
      "D = 5; lambda = 0.1; avg. validation error: [0.05852032]; avg. training error: [0.05848892]\n",
      "D = 5; lambda = 0.15; avg. validation error: [0.05852006]; avg. training error: [0.05849036]\n",
      "D = 5; lambda = 0.2; avg. validation error: [0.05852012]; avg. training error: [0.05849178]\n"
     ]
    }
   ],
   "source": [
    "gridsearch_Rs_test = []\n",
    "gridsearch_Rs_training = []\n",
    "i = 0\n",
    "for D in range(1, 6):\n",
    "    gridsearch_Rs_test.append([])\n",
    "    gridsearch_Rs_training.append([])\n",
    "    j = 0\n",
    "    for nu in [0.05, 0.1, 0.15, 0.2]:\n",
    "        R = mse_for_cross_validation(x_folds, y_folds, D, k, nu)\n",
    "        R_test, R_training = R[0], R[1]\n",
    "        gridsearch_Rs_test[i].append(R_test)\n",
    "        gridsearch_Rs_training[i].append(R_training)\n",
    "        print('D = ' + str(D) + '; lambda = ' + str(nu) + '; avg. validation error: ' + str(R_test) + '; avg. training error: ' + str(R_training))\n",
    "        j += 1\n",
    "    i += 1"
   ]
  },
  {
   "cell_type": "code",
   "execution_count": 33,
   "id": "77c7119b",
   "metadata": {},
   "outputs": [
    {
     "data": {
      "text/plain": [
       "(array([3]), array([2]), array([0]))"
      ]
     },
     "execution_count": 33,
     "metadata": {},
     "output_type": "execute_result"
    }
   ],
   "source": [
    "np.where(gridsearch_Rs_test == np.min(gridsearch_Rs_test))"
   ]
  },
  {
   "cell_type": "markdown",
   "id": "ae74ba55",
   "metadata": {},
   "source": [
    "The best D is D=4 and the best lambda is lambda=0.15."
   ]
  }
 ],
 "metadata": {
  "kernelspec": {
   "display_name": "Python 3 (ipykernel)",
   "language": "python",
   "name": "python3"
  },
  "language_info": {
   "codemirror_mode": {
    "name": "ipython",
    "version": 3
   },
   "file_extension": ".py",
   "mimetype": "text/x-python",
   "name": "python",
   "nbconvert_exporter": "python",
   "pygments_lexer": "ipython3",
   "version": "3.9.9"
  }
 },
 "nbformat": 4,
 "nbformat_minor": 5
}
